{
  "cells": [
    {
      "cell_type": "code",
      "execution_count": 38,
      "metadata": {
        "id": "-S4ZSyXjQXnI"
      },
      "outputs": [],
      "source": [
        "import pandas as pd\n",
        "import numpy as np\n",
        "import seaborn as sns\n",
        "import matplotlib.pyplot as plt\n",
        "\n",
        "from sklearn.model_selection import train_test_split\n",
        "from sklearn.ensemble import RandomForestClassifier\n",
        "from sklearn import svm\n",
        "from sklearn.ensemble import GradientBoostingClassifier\n",
        "\n",
        "from sklearn import preprocessing\n",
        "from sklearn.preprocessing import StandardScaler #normalization\n",
        "\n",
        "from sklearn import metrics\n",
        "from sklearn.metrics import accuracy_score\n",
        "from sklearn.metrics import roc_auc_score\n",
        "from sklearn.metrics import precision_score\n",
        "from sklearn.metrics import recall_score\n",
        "from sklearn.metrics import f1_score\n",
        "from sklearn.metrics import classification_report\n",
        "from sklearn.metrics import plot_confusion_matrix\n",
        "from sklearn.metrics import confusion_matrix\n",
        "from sklearn.metrics import ConfusionMatrixDisplay\n",
        "from sklearn.metrics import make_scorer\n",
        "\n",
        "from sklearn.model_selection import cross_val_score\n",
        "from sklearn.model_selection import GridSearchCV"
      ]
    },
    {
      "cell_type": "code",
      "execution_count": 14,
      "metadata": {
        "id": "vJ1yfz_3E3ac"
      },
      "outputs": [],
      "source": [
        "df= pd.read_csv('/content/drive/MyDrive/OneDrive_1_3-7-2022/df4.csv')\n",
        "df.drop(\"Unnamed: 0\", axis=1, inplace=True)"
      ]
    },
    {
      "cell_type": "code",
      "execution_count": 16,
      "metadata": {
        "colab": {
          "base_uri": "https://localhost:8080/",
          "height": 299
        },
        "id": "m4Mt_UJoCMIC",
        "outputId": "36903090-398b-4e1d-da1d-5fda15ab221d"
      },
      "outputs": [
        {
          "output_type": "execute_result",
          "data": {
            "text/plain": [
              "          ID  RECALCGPA  AppDate  AdmitDate  SCHOLARSHIPTEST  TMST_15  \\\n",
              "0  120957007       2.70       36         38             14.0        0   \n",
              "1  102554310       2.95       99         77             18.0        0   \n",
              "2  170965039       3.63      105         76             28.0        0   \n",
              "3  131260604       4.00      119         87             24.0        0   \n",
              "4  119542072       4.00       55         19             20.0        1   \n",
              "\n",
              "   PELL_EFC_CENSUS  FirstInqDate  EntryTerm_202160  MaxEntryStatus_F  ...  \\\n",
              "0              0.0            65               0.0               1.0  ...   \n",
              "1              0.0           289               0.0               1.0  ...   \n",
              "2          10564.0           694               0.0               1.0  ...   \n",
              "3          20587.0           357               0.0               1.0  ...   \n",
              "4              0.0           741               0.0               1.0  ...   \n",
              "\n",
              "   NumberOfVisits_4  NumberOfVisits_5  GENDER_F  FirstGen_N  LEGACY_A  \\\n",
              "0               0.0               0.0       1.0         1.0       0.0   \n",
              "1               0.0               0.0       1.0         0.0       0.0   \n",
              "2               0.0               0.0       0.0         1.0       0.0   \n",
              "3               0.0               0.0       1.0         0.0       0.0   \n",
              "4               0.0               0.0       1.0         1.0       0.0   \n",
              "\n",
              "   LEGACY_G  LEGACY_None  LEGACY_P  LEGACY_S  LEGACY_U  \n",
              "0       0.0          1.0       0.0       0.0       0.0  \n",
              "1       0.0          1.0       0.0       0.0       0.0  \n",
              "2       0.0          1.0       0.0       0.0       0.0  \n",
              "3       1.0          0.0       0.0       0.0       0.0  \n",
              "4       0.0          1.0       0.0       0.0       0.0  \n",
              "\n",
              "[5 rows x 219 columns]"
            ],
            "text/html": [
              "\n",
              "  <div id=\"df-0821cad4-8a61-4120-9cae-c5b9e90e9dac\">\n",
              "    <div class=\"colab-df-container\">\n",
              "      <div>\n",
              "<style scoped>\n",
              "    .dataframe tbody tr th:only-of-type {\n",
              "        vertical-align: middle;\n",
              "    }\n",
              "\n",
              "    .dataframe tbody tr th {\n",
              "        vertical-align: top;\n",
              "    }\n",
              "\n",
              "    .dataframe thead th {\n",
              "        text-align: right;\n",
              "    }\n",
              "</style>\n",
              "<table border=\"1\" class=\"dataframe\">\n",
              "  <thead>\n",
              "    <tr style=\"text-align: right;\">\n",
              "      <th></th>\n",
              "      <th>ID</th>\n",
              "      <th>RECALCGPA</th>\n",
              "      <th>AppDate</th>\n",
              "      <th>AdmitDate</th>\n",
              "      <th>SCHOLARSHIPTEST</th>\n",
              "      <th>TMST_15</th>\n",
              "      <th>PELL_EFC_CENSUS</th>\n",
              "      <th>FirstInqDate</th>\n",
              "      <th>EntryTerm_202160</th>\n",
              "      <th>MaxEntryStatus_F</th>\n",
              "      <th>...</th>\n",
              "      <th>NumberOfVisits_4</th>\n",
              "      <th>NumberOfVisits_5</th>\n",
              "      <th>GENDER_F</th>\n",
              "      <th>FirstGen_N</th>\n",
              "      <th>LEGACY_A</th>\n",
              "      <th>LEGACY_G</th>\n",
              "      <th>LEGACY_None</th>\n",
              "      <th>LEGACY_P</th>\n",
              "      <th>LEGACY_S</th>\n",
              "      <th>LEGACY_U</th>\n",
              "    </tr>\n",
              "  </thead>\n",
              "  <tbody>\n",
              "    <tr>\n",
              "      <th>0</th>\n",
              "      <td>120957007</td>\n",
              "      <td>2.70</td>\n",
              "      <td>36</td>\n",
              "      <td>38</td>\n",
              "      <td>14.0</td>\n",
              "      <td>0</td>\n",
              "      <td>0.0</td>\n",
              "      <td>65</td>\n",
              "      <td>0.0</td>\n",
              "      <td>1.0</td>\n",
              "      <td>...</td>\n",
              "      <td>0.0</td>\n",
              "      <td>0.0</td>\n",
              "      <td>1.0</td>\n",
              "      <td>1.0</td>\n",
              "      <td>0.0</td>\n",
              "      <td>0.0</td>\n",
              "      <td>1.0</td>\n",
              "      <td>0.0</td>\n",
              "      <td>0.0</td>\n",
              "      <td>0.0</td>\n",
              "    </tr>\n",
              "    <tr>\n",
              "      <th>1</th>\n",
              "      <td>102554310</td>\n",
              "      <td>2.95</td>\n",
              "      <td>99</td>\n",
              "      <td>77</td>\n",
              "      <td>18.0</td>\n",
              "      <td>0</td>\n",
              "      <td>0.0</td>\n",
              "      <td>289</td>\n",
              "      <td>0.0</td>\n",
              "      <td>1.0</td>\n",
              "      <td>...</td>\n",
              "      <td>0.0</td>\n",
              "      <td>0.0</td>\n",
              "      <td>1.0</td>\n",
              "      <td>0.0</td>\n",
              "      <td>0.0</td>\n",
              "      <td>0.0</td>\n",
              "      <td>1.0</td>\n",
              "      <td>0.0</td>\n",
              "      <td>0.0</td>\n",
              "      <td>0.0</td>\n",
              "    </tr>\n",
              "    <tr>\n",
              "      <th>2</th>\n",
              "      <td>170965039</td>\n",
              "      <td>3.63</td>\n",
              "      <td>105</td>\n",
              "      <td>76</td>\n",
              "      <td>28.0</td>\n",
              "      <td>0</td>\n",
              "      <td>10564.0</td>\n",
              "      <td>694</td>\n",
              "      <td>0.0</td>\n",
              "      <td>1.0</td>\n",
              "      <td>...</td>\n",
              "      <td>0.0</td>\n",
              "      <td>0.0</td>\n",
              "      <td>0.0</td>\n",
              "      <td>1.0</td>\n",
              "      <td>0.0</td>\n",
              "      <td>0.0</td>\n",
              "      <td>1.0</td>\n",
              "      <td>0.0</td>\n",
              "      <td>0.0</td>\n",
              "      <td>0.0</td>\n",
              "    </tr>\n",
              "    <tr>\n",
              "      <th>3</th>\n",
              "      <td>131260604</td>\n",
              "      <td>4.00</td>\n",
              "      <td>119</td>\n",
              "      <td>87</td>\n",
              "      <td>24.0</td>\n",
              "      <td>0</td>\n",
              "      <td>20587.0</td>\n",
              "      <td>357</td>\n",
              "      <td>0.0</td>\n",
              "      <td>1.0</td>\n",
              "      <td>...</td>\n",
              "      <td>0.0</td>\n",
              "      <td>0.0</td>\n",
              "      <td>1.0</td>\n",
              "      <td>0.0</td>\n",
              "      <td>0.0</td>\n",
              "      <td>1.0</td>\n",
              "      <td>0.0</td>\n",
              "      <td>0.0</td>\n",
              "      <td>0.0</td>\n",
              "      <td>0.0</td>\n",
              "    </tr>\n",
              "    <tr>\n",
              "      <th>4</th>\n",
              "      <td>119542072</td>\n",
              "      <td>4.00</td>\n",
              "      <td>55</td>\n",
              "      <td>19</td>\n",
              "      <td>20.0</td>\n",
              "      <td>1</td>\n",
              "      <td>0.0</td>\n",
              "      <td>741</td>\n",
              "      <td>0.0</td>\n",
              "      <td>1.0</td>\n",
              "      <td>...</td>\n",
              "      <td>0.0</td>\n",
              "      <td>0.0</td>\n",
              "      <td>1.0</td>\n",
              "      <td>1.0</td>\n",
              "      <td>0.0</td>\n",
              "      <td>0.0</td>\n",
              "      <td>1.0</td>\n",
              "      <td>0.0</td>\n",
              "      <td>0.0</td>\n",
              "      <td>0.0</td>\n",
              "    </tr>\n",
              "  </tbody>\n",
              "</table>\n",
              "<p>5 rows × 219 columns</p>\n",
              "</div>\n",
              "      <button class=\"colab-df-convert\" onclick=\"convertToInteractive('df-0821cad4-8a61-4120-9cae-c5b9e90e9dac')\"\n",
              "              title=\"Convert this dataframe to an interactive table.\"\n",
              "              style=\"display:none;\">\n",
              "        \n",
              "  <svg xmlns=\"http://www.w3.org/2000/svg\" height=\"24px\"viewBox=\"0 0 24 24\"\n",
              "       width=\"24px\">\n",
              "    <path d=\"M0 0h24v24H0V0z\" fill=\"none\"/>\n",
              "    <path d=\"M18.56 5.44l.94 2.06.94-2.06 2.06-.94-2.06-.94-.94-2.06-.94 2.06-2.06.94zm-11 1L8.5 8.5l.94-2.06 2.06-.94-2.06-.94L8.5 2.5l-.94 2.06-2.06.94zm10 10l.94 2.06.94-2.06 2.06-.94-2.06-.94-.94-2.06-.94 2.06-2.06.94z\"/><path d=\"M17.41 7.96l-1.37-1.37c-.4-.4-.92-.59-1.43-.59-.52 0-1.04.2-1.43.59L10.3 9.45l-7.72 7.72c-.78.78-.78 2.05 0 2.83L4 21.41c.39.39.9.59 1.41.59.51 0 1.02-.2 1.41-.59l7.78-7.78 2.81-2.81c.8-.78.8-2.07 0-2.86zM5.41 20L4 18.59l7.72-7.72 1.47 1.35L5.41 20z\"/>\n",
              "  </svg>\n",
              "      </button>\n",
              "      \n",
              "  <style>\n",
              "    .colab-df-container {\n",
              "      display:flex;\n",
              "      flex-wrap:wrap;\n",
              "      gap: 12px;\n",
              "    }\n",
              "\n",
              "    .colab-df-convert {\n",
              "      background-color: #E8F0FE;\n",
              "      border: none;\n",
              "      border-radius: 50%;\n",
              "      cursor: pointer;\n",
              "      display: none;\n",
              "      fill: #1967D2;\n",
              "      height: 32px;\n",
              "      padding: 0 0 0 0;\n",
              "      width: 32px;\n",
              "    }\n",
              "\n",
              "    .colab-df-convert:hover {\n",
              "      background-color: #E2EBFA;\n",
              "      box-shadow: 0px 1px 2px rgba(60, 64, 67, 0.3), 0px 1px 3px 1px rgba(60, 64, 67, 0.15);\n",
              "      fill: #174EA6;\n",
              "    }\n",
              "\n",
              "    [theme=dark] .colab-df-convert {\n",
              "      background-color: #3B4455;\n",
              "      fill: #D2E3FC;\n",
              "    }\n",
              "\n",
              "    [theme=dark] .colab-df-convert:hover {\n",
              "      background-color: #434B5C;\n",
              "      box-shadow: 0px 1px 3px 1px rgba(0, 0, 0, 0.15);\n",
              "      filter: drop-shadow(0px 1px 2px rgba(0, 0, 0, 0.3));\n",
              "      fill: #FFFFFF;\n",
              "    }\n",
              "  </style>\n",
              "\n",
              "      <script>\n",
              "        const buttonEl =\n",
              "          document.querySelector('#df-0821cad4-8a61-4120-9cae-c5b9e90e9dac button.colab-df-convert');\n",
              "        buttonEl.style.display =\n",
              "          google.colab.kernel.accessAllowed ? 'block' : 'none';\n",
              "\n",
              "        async function convertToInteractive(key) {\n",
              "          const element = document.querySelector('#df-0821cad4-8a61-4120-9cae-c5b9e90e9dac');\n",
              "          const dataTable =\n",
              "            await google.colab.kernel.invokeFunction('convertToInteractive',\n",
              "                                                     [key], {});\n",
              "          if (!dataTable) return;\n",
              "\n",
              "          const docLinkHtml = 'Like what you see? Visit the ' +\n",
              "            '<a target=\"_blank\" href=https://colab.research.google.com/notebooks/data_table.ipynb>data table notebook</a>'\n",
              "            + ' to learn more about interactive tables.';\n",
              "          element.innerHTML = '';\n",
              "          dataTable['output_type'] = 'display_data';\n",
              "          await google.colab.output.renderOutput(dataTable, element);\n",
              "          const docLink = document.createElement('div');\n",
              "          docLink.innerHTML = docLinkHtml;\n",
              "          element.appendChild(docLink);\n",
              "        }\n",
              "      </script>\n",
              "    </div>\n",
              "  </div>\n",
              "  "
            ]
          },
          "metadata": {},
          "execution_count": 16
        }
      ],
      "source": [
        "df.head()"
      ]
    },
    {
      "cell_type": "markdown",
      "metadata": {
        "id": "nMJ8-KaZCqN8"
      },
      "source": [
        "#Test train split"
      ]
    },
    {
      "cell_type": "code",
      "execution_count": 17,
      "metadata": {
        "id": "xKRrWtEzTNbp"
      },
      "outputs": [],
      "source": [
        "import random\n",
        "random.seed(10)\n",
        "\n",
        "x=df.drop('TMST_15', axis=1)\n",
        "y= df['TMST_15'] #1 - Not enrolled , 0 - Enrolled\n",
        "\n",
        "x_train, x_test, y_train, y_test = train_test_split(x, y, test_size=0.30, random_state=12, stratify=y)"
      ]
    },
    {
      "cell_type": "code",
      "execution_count": 18,
      "metadata": {
        "colab": {
          "base_uri": "https://localhost:8080/"
        },
        "id": "75tdBR2kd3O7",
        "outputId": "a4050499-39ca-4457-9cff-1a76f2bfee92"
      },
      "outputs": [
        {
          "output_type": "stream",
          "name": "stdout",
          "text": [
            "(11060, 218)\n",
            "(11060,)\n",
            "(4740, 218)\n",
            "(4740,)\n"
          ]
        }
      ],
      "source": [
        "print(x_train.shape)\n",
        "print(y_train.shape)\n",
        "print(x_test.shape)\n",
        "print(y_test.shape)"
      ]
    },
    {
      "cell_type": "code",
      "execution_count": 19,
      "metadata": {
        "colab": {
          "base_uri": "https://localhost:8080/"
        },
        "id": "SaN9GQ9rutM2",
        "outputId": "d75e0972-13d7-45dc-8f52-440e8d347342"
      },
      "outputs": [
        {
          "output_type": "stream",
          "name": "stdout",
          "text": [
            "Class % in Train set:  1    0.744394\n",
            "0    0.255606\n",
            "Name: TMST_15, dtype: float64\n",
            "Class % in Test set:  1    0.744304\n",
            "0    0.255696\n",
            "Name: TMST_15, dtype: float64\n"
          ]
        }
      ],
      "source": [
        "#Stratified test and train set\n",
        "print(\"Class % in Train set: \", y_train.value_counts(normalize=True))\n",
        "\n",
        "print(\"Class % in Test set: \", y_test.value_counts(normalize=True))"
      ]
    },
    {
      "cell_type": "markdown",
      "metadata": {
        "id": "SHJ_UY3skcI0"
      },
      "source": [
        "#Random Forest"
      ]
    },
    {
      "cell_type": "markdown",
      "metadata": {
        "id": "08baX0qb2Fp1"
      },
      "source": [
        "##Random forest (SMOTE)"
      ]
    },
    {
      "cell_type": "code",
      "execution_count": 20,
      "metadata": {
        "id": "9aLeV2ady_EV"
      },
      "outputs": [],
      "source": [
        "#Class Imbalance handling using SMOTE\n",
        "from imblearn.over_sampling import SMOTE \n",
        "smote = SMOTE(sampling_strategy='auto' , random_state=12 , k_neighbors=5 )\n",
        "x_train_ovrs, y_train_ovrs = smote.fit_resample(x_train, y_train)\n"
      ]
    },
    {
      "cell_type": "markdown",
      "source": [
        "###GridSearchCV used to find the optimal hyperparameters"
      ],
      "metadata": {
        "id": "eczaPIzK_r2M"
      }
    },
    {
      "cell_type": "code",
      "execution_count": 21,
      "metadata": {
        "id": "py7xLHivvgXt"
      },
      "outputs": [],
      "source": [
        "param_grid = { \n",
        "    'n_estimators': [200, 500],\n",
        "    'max_features': ['auto', 'sqrt', 'log2'],\n",
        "    'max_depth' : range(1,15, 2),\n",
        "    'criterion' :['gini', 'entropy']\n",
        "}"
      ]
    },
    {
      "cell_type": "code",
      "execution_count": 22,
      "metadata": {
        "id": "gcMgh7TJu7h9",
        "colab": {
          "base_uri": "https://localhost:8080/"
        },
        "outputId": "50c9b122-2327-4603-94a6-c8ac2ce2d7a5"
      },
      "outputs": [
        {
          "output_type": "stream",
          "name": "stdout",
          "text": [
            "Fitting 5 folds for each of 84 candidates, totalling 420 fits\n"
          ]
        }
      ],
      "source": [
        "model_rf1 = RandomForestClassifier( bootstrap= True, \n",
        "                                random_state= 0, class_weight='balanced')\n",
        "\n",
        "rf_grid = GridSearchCV(estimator=model_rf1, param_grid=param_grid, cv= 5, verbose=2, n_jobs=-1)\n",
        "fit1 = rf_grid.fit(x_train_ovrs, y_train_ovrs)"
      ]
    },
    {
      "cell_type": "code",
      "execution_count": 23,
      "metadata": {
        "colab": {
          "base_uri": "https://localhost:8080/"
        },
        "id": "IiXiZFjc12A8",
        "outputId": "c93c458f-58e2-43ad-974e-0c9504951e49"
      },
      "outputs": [
        {
          "output_type": "execute_result",
          "data": {
            "text/plain": [
              "{'criterion': 'entropy',\n",
              " 'max_depth': 13,\n",
              " 'max_features': 'auto',\n",
              " 'n_estimators': 500}"
            ]
          },
          "metadata": {},
          "execution_count": 23
        }
      ],
      "source": [
        "fit1.best_params_"
      ]
    },
    {
      "cell_type": "code",
      "execution_count": 24,
      "metadata": {
        "colab": {
          "base_uri": "https://localhost:8080/"
        },
        "id": "hoHxBH3k76up",
        "outputId": "18f8b6b1-5b41-42bb-8a23-622b4d61df18"
      },
      "outputs": [
        {
          "output_type": "execute_result",
          "data": {
            "text/plain": [
              "RandomForestClassifier(class_weight='balanced', criterion='entropy',\n",
              "                       max_depth=13, n_estimators=500, random_state=0)"
            ]
          },
          "metadata": {},
          "execution_count": 24
        }
      ],
      "source": [
        "fit1.best_estimator_"
      ]
    },
    {
      "cell_type": "markdown",
      "source": [
        "###Fitting the model using the optimal hyperparameters"
      ],
      "metadata": {
        "id": "93J87MIJ_1MM"
      }
    },
    {
      "cell_type": "code",
      "execution_count": 25,
      "metadata": {
        "id": "oHD3LxapNzAC"
      },
      "outputs": [],
      "source": [
        "model_rf_best = RandomForestClassifier( bootstrap= True, \n",
        "                                random_state= 0, \n",
        "                                class_weight='balanced', \n",
        "                                criterion= 'entropy',\n",
        "                                max_depth= 13,\n",
        "                                 max_features= 'auto',\n",
        "                                 n_estimators= 500)"
      ]
    },
    {
      "cell_type": "code",
      "execution_count": 26,
      "metadata": {
        "colab": {
          "base_uri": "https://localhost:8080/"
        },
        "id": "KxrXjWogOIYw",
        "outputId": "7535f73d-b437-4759-a463-a57d9752e784"
      },
      "outputs": [
        {
          "output_type": "stream",
          "name": "stdout",
          "text": [
            "ROC/AUC score with SMOTE: 0.9292407557082238\n"
          ]
        }
      ],
      "source": [
        "rf_fit = model_rf_best.fit(x_train_ovrs,y_train_ovrs)\n",
        "rf_pred = rf_fit.predict(x_test)\n",
        "print('ROC/AUC score with SMOTE:',roc_auc_score(y_test, rf_pred))"
      ]
    },
    {
      "cell_type": "code",
      "execution_count": 27,
      "metadata": {
        "colab": {
          "base_uri": "https://localhost:8080/"
        },
        "id": "3d5wg-ftwdpB",
        "outputId": "e5b033b9-c56e-4621-e9ad-ce5c103007bd"
      },
      "outputs": [
        {
          "output_type": "stream",
          "name": "stdout",
          "text": [
            "ROC/AUC score without SMOTE: 0.933098156754451\n"
          ]
        }
      ],
      "source": [
        "rf_fit2 = model_rf_best.fit(x_train, y_train)\n",
        "rf_pred2 = rf_fit.predict(x_test)\n",
        "print('ROC/AUC score without SMOTE:',roc_auc_score(y_test, rf_pred2))"
      ]
    },
    {
      "cell_type": "code",
      "execution_count": 39,
      "metadata": {
        "colab": {
          "base_uri": "https://localhost:8080/",
          "height": 423
        },
        "id": "qSym2WZpxyIy",
        "outputId": "a4e0e984-63cf-4e7a-a104-27086d3b0713"
      },
      "outputs": [
        {
          "output_type": "execute_result",
          "data": {
            "text/plain": [
              "             0         1\n",
              "0     0.091342  0.908658\n",
              "1     0.842572  0.157428\n",
              "2     0.204771  0.795229\n",
              "3     0.816769  0.183231\n",
              "4     0.274567  0.725433\n",
              "...        ...       ...\n",
              "4735  0.075277  0.924723\n",
              "4736  0.224131  0.775869\n",
              "4737  0.283510  0.716490\n",
              "4738  0.080718  0.919282\n",
              "4739  0.091785  0.908215\n",
              "\n",
              "[4740 rows x 2 columns]"
            ],
            "text/html": [
              "\n",
              "  <div id=\"df-d5388f0c-0dbe-4fde-ba1c-4b5e67b0d633\">\n",
              "    <div class=\"colab-df-container\">\n",
              "      <div>\n",
              "<style scoped>\n",
              "    .dataframe tbody tr th:only-of-type {\n",
              "        vertical-align: middle;\n",
              "    }\n",
              "\n",
              "    .dataframe tbody tr th {\n",
              "        vertical-align: top;\n",
              "    }\n",
              "\n",
              "    .dataframe thead th {\n",
              "        text-align: right;\n",
              "    }\n",
              "</style>\n",
              "<table border=\"1\" class=\"dataframe\">\n",
              "  <thead>\n",
              "    <tr style=\"text-align: right;\">\n",
              "      <th></th>\n",
              "      <th>0</th>\n",
              "      <th>1</th>\n",
              "    </tr>\n",
              "  </thead>\n",
              "  <tbody>\n",
              "    <tr>\n",
              "      <th>0</th>\n",
              "      <td>0.091342</td>\n",
              "      <td>0.908658</td>\n",
              "    </tr>\n",
              "    <tr>\n",
              "      <th>1</th>\n",
              "      <td>0.842572</td>\n",
              "      <td>0.157428</td>\n",
              "    </tr>\n",
              "    <tr>\n",
              "      <th>2</th>\n",
              "      <td>0.204771</td>\n",
              "      <td>0.795229</td>\n",
              "    </tr>\n",
              "    <tr>\n",
              "      <th>3</th>\n",
              "      <td>0.816769</td>\n",
              "      <td>0.183231</td>\n",
              "    </tr>\n",
              "    <tr>\n",
              "      <th>4</th>\n",
              "      <td>0.274567</td>\n",
              "      <td>0.725433</td>\n",
              "    </tr>\n",
              "    <tr>\n",
              "      <th>...</th>\n",
              "      <td>...</td>\n",
              "      <td>...</td>\n",
              "    </tr>\n",
              "    <tr>\n",
              "      <th>4735</th>\n",
              "      <td>0.075277</td>\n",
              "      <td>0.924723</td>\n",
              "    </tr>\n",
              "    <tr>\n",
              "      <th>4736</th>\n",
              "      <td>0.224131</td>\n",
              "      <td>0.775869</td>\n",
              "    </tr>\n",
              "    <tr>\n",
              "      <th>4737</th>\n",
              "      <td>0.283510</td>\n",
              "      <td>0.716490</td>\n",
              "    </tr>\n",
              "    <tr>\n",
              "      <th>4738</th>\n",
              "      <td>0.080718</td>\n",
              "      <td>0.919282</td>\n",
              "    </tr>\n",
              "    <tr>\n",
              "      <th>4739</th>\n",
              "      <td>0.091785</td>\n",
              "      <td>0.908215</td>\n",
              "    </tr>\n",
              "  </tbody>\n",
              "</table>\n",
              "<p>4740 rows × 2 columns</p>\n",
              "</div>\n",
              "      <button class=\"colab-df-convert\" onclick=\"convertToInteractive('df-d5388f0c-0dbe-4fde-ba1c-4b5e67b0d633')\"\n",
              "              title=\"Convert this dataframe to an interactive table.\"\n",
              "              style=\"display:none;\">\n",
              "        \n",
              "  <svg xmlns=\"http://www.w3.org/2000/svg\" height=\"24px\"viewBox=\"0 0 24 24\"\n",
              "       width=\"24px\">\n",
              "    <path d=\"M0 0h24v24H0V0z\" fill=\"none\"/>\n",
              "    <path d=\"M18.56 5.44l.94 2.06.94-2.06 2.06-.94-2.06-.94-.94-2.06-.94 2.06-2.06.94zm-11 1L8.5 8.5l.94-2.06 2.06-.94-2.06-.94L8.5 2.5l-.94 2.06-2.06.94zm10 10l.94 2.06.94-2.06 2.06-.94-2.06-.94-.94-2.06-.94 2.06-2.06.94z\"/><path d=\"M17.41 7.96l-1.37-1.37c-.4-.4-.92-.59-1.43-.59-.52 0-1.04.2-1.43.59L10.3 9.45l-7.72 7.72c-.78.78-.78 2.05 0 2.83L4 21.41c.39.39.9.59 1.41.59.51 0 1.02-.2 1.41-.59l7.78-7.78 2.81-2.81c.8-.78.8-2.07 0-2.86zM5.41 20L4 18.59l7.72-7.72 1.47 1.35L5.41 20z\"/>\n",
              "  </svg>\n",
              "      </button>\n",
              "      \n",
              "  <style>\n",
              "    .colab-df-container {\n",
              "      display:flex;\n",
              "      flex-wrap:wrap;\n",
              "      gap: 12px;\n",
              "    }\n",
              "\n",
              "    .colab-df-convert {\n",
              "      background-color: #E8F0FE;\n",
              "      border: none;\n",
              "      border-radius: 50%;\n",
              "      cursor: pointer;\n",
              "      display: none;\n",
              "      fill: #1967D2;\n",
              "      height: 32px;\n",
              "      padding: 0 0 0 0;\n",
              "      width: 32px;\n",
              "    }\n",
              "\n",
              "    .colab-df-convert:hover {\n",
              "      background-color: #E2EBFA;\n",
              "      box-shadow: 0px 1px 2px rgba(60, 64, 67, 0.3), 0px 1px 3px 1px rgba(60, 64, 67, 0.15);\n",
              "      fill: #174EA6;\n",
              "    }\n",
              "\n",
              "    [theme=dark] .colab-df-convert {\n",
              "      background-color: #3B4455;\n",
              "      fill: #D2E3FC;\n",
              "    }\n",
              "\n",
              "    [theme=dark] .colab-df-convert:hover {\n",
              "      background-color: #434B5C;\n",
              "      box-shadow: 0px 1px 3px 1px rgba(0, 0, 0, 0.15);\n",
              "      filter: drop-shadow(0px 1px 2px rgba(0, 0, 0, 0.3));\n",
              "      fill: #FFFFFF;\n",
              "    }\n",
              "  </style>\n",
              "\n",
              "      <script>\n",
              "        const buttonEl =\n",
              "          document.querySelector('#df-d5388f0c-0dbe-4fde-ba1c-4b5e67b0d633 button.colab-df-convert');\n",
              "        buttonEl.style.display =\n",
              "          google.colab.kernel.accessAllowed ? 'block' : 'none';\n",
              "\n",
              "        async function convertToInteractive(key) {\n",
              "          const element = document.querySelector('#df-d5388f0c-0dbe-4fde-ba1c-4b5e67b0d633');\n",
              "          const dataTable =\n",
              "            await google.colab.kernel.invokeFunction('convertToInteractive',\n",
              "                                                     [key], {});\n",
              "          if (!dataTable) return;\n",
              "\n",
              "          const docLinkHtml = 'Like what you see? Visit the ' +\n",
              "            '<a target=\"_blank\" href=https://colab.research.google.com/notebooks/data_table.ipynb>data table notebook</a>'\n",
              "            + ' to learn more about interactive tables.';\n",
              "          element.innerHTML = '';\n",
              "          dataTable['output_type'] = 'display_data';\n",
              "          await google.colab.output.renderOutput(dataTable, element);\n",
              "          const docLink = document.createElement('div');\n",
              "          docLink.innerHTML = docLinkHtml;\n",
              "          element.appendChild(docLink);\n",
              "        }\n",
              "      </script>\n",
              "    </div>\n",
              "  </div>\n",
              "  "
            ]
          },
          "metadata": {},
          "execution_count": 39
        }
      ],
      "source": [
        "rf_prob = rf_fit.predict_proba(x_test)\n",
        "pd.DataFrame(rf_prob)"
      ]
    },
    {
      "cell_type": "code",
      "execution_count": 32,
      "metadata": {
        "colab": {
          "base_uri": "https://localhost:8080/"
        },
        "id": "vXKlJNdC6BU4",
        "outputId": "c517f2df-5949-435f-d2dd-2dd8022e23d0"
      },
      "outputs": [
        {
          "output_type": "stream",
          "name": "stdout",
          "text": [
            "ROC/AUC score: 0.9292\n",
            "Accuracy: 0.9568\n",
            "F1 score: 0.9714\n",
            "Recall: 0.9855\n",
            "Precision: 0.9576\n",
            "\n",
            " clasification report:\n",
            "               precision    recall  f1-score   support\n",
            "\n",
            "           0       0.95      0.87      0.91      1212\n",
            "           1       0.96      0.99      0.97      3528\n",
            "\n",
            "    accuracy                           0.96      4740\n",
            "   macro avg       0.96      0.93      0.94      4740\n",
            "weighted avg       0.96      0.96      0.96      4740\n",
            "\n",
            "\n",
            " confusion matrix:\n",
            " [[1058  154]\n",
            " [  51 3477]]\n"
          ]
        }
      ],
      "source": [
        "print('ROC/AUC score:',round(roc_auc_score(y_test, rf_pred),4))\n",
        "print('Accuracy:', round(accuracy_score(y_test, rf_pred),4))\n",
        "print ('F1 score:', round(f1_score(y_test, rf_pred),4))\n",
        "print ('Recall:', round(recall_score(y_test, rf_pred),4))\n",
        "print ('Precision:', round(precision_score(y_test, rf_pred),4))\n",
        "print ('\\n clasification report:\\n', classification_report(y_test, rf_pred))\n",
        "print ('\\n confusion matrix:\\n',confusion_matrix(y_test, rf_pred))\n"
      ]
    },
    {
      "cell_type": "code",
      "execution_count": 33,
      "metadata": {
        "colab": {
          "base_uri": "https://localhost:8080/",
          "height": 295
        },
        "id": "6BrvBRU5FCoH",
        "outputId": "2586c5bb-05bf-4a1f-929f-7fcdefee9a4a"
      },
      "outputs": [
        {
          "output_type": "display_data",
          "data": {
            "text/plain": [
              "<Figure size 432x288 with 1 Axes>"
            ],
            "image/png": "[encoded data removed]"
          },
          "metadata": {
            "needs_background": "light"
          }
        }
      ],
      "source": [
        "from sklearn import metrics\n",
        "import matplotlib.pyplot as plt\n",
        "\n",
        "ax= plt.subplot()\n",
        "fpr, tpr, thresholds = metrics.roc_curve(y_test, rf_pred)\n",
        "roc_auc = metrics.auc(fpr, tpr)\n",
        "display = metrics.RocCurveDisplay(fpr=fpr, tpr=tpr, roc_auc=roc_auc)\n",
        "ax.set_title('ROC for Weighted Random Forest')\n",
        "display.plot(ax=ax)\n",
        "\n",
        "plt.show()"
      ]
    },
    {
      "cell_type": "code",
      "execution_count": 34,
      "metadata": {
        "colab": {
          "base_uri": "https://localhost:8080/",
          "height": 369
        },
        "id": "uGiwf9pqmJZd",
        "outputId": "20736973-4acf-444d-f102-609da3263403"
      },
      "outputs": [
        {
          "output_type": "stream",
          "name": "stderr",
          "text": [
            "/usr/local/lib/python3.7/dist-packages/sklearn/utils/deprecation.py:87: FutureWarning: Function plot_confusion_matrix is deprecated; Function `plot_confusion_matrix` is deprecated in 1.0 and will be removed in 1.2. Use one of the class methods: ConfusionMatrixDisplay.from_predictions or ConfusionMatrixDisplay.from_estimator.\n",
            "  warnings.warn(msg, category=FutureWarning)\n"
          ]
        },
        {
          "output_type": "execute_result",
          "data": {
            "text/plain": [
              "Text(0.5, 1.0, 'Confusion Matrix for Weighted Random Forest')"
            ]
          },
          "metadata": {},
          "execution_count": 34
        },
        {
          "output_type": "display_data",
          "data": {
            "text/plain": [
              "<Figure size 432x288 with 2 Axes>"
            ],
            "image/png": "[encoded data removed]"
          },
          "metadata": {
            "needs_background": "light"
          }
        }
      ],
      "source": [
        "ax= plt.subplot()\n",
        "cf_rf = plot_confusion_matrix(model_rf_best, x_test, y_test, cmap='Blues', display_labels=['Enrolled', 'Not Enrolled'], ax=ax)\n",
        "ax.set_title('Confusion Matrix for Weighted Random Forest')"
      ]
    },
    {
      "cell_type": "markdown",
      "metadata": {
        "id": "S6G4mCJhlX6d"
      },
      "source": [
        "###Feature Importance using Random forest"
      ]
    },
    {
      "cell_type": "code",
      "execution_count": 36,
      "metadata": {
        "colab": {
          "base_uri": "https://localhost:8080/",
          "height": 0
        },
        "id": "RcEmDrEoUKsZ",
        "outputId": "be1c230d-f67c-4271-de61-38206ab0bcab"
      },
      "outputs": [
        {
          "output_type": "execute_result",
          "data": {
            "text/plain": [
              "                            Features  Importance score  Importance_%  \\\n",
              "170                      LOAN_ACPT_0          0.191950     19.195026   \n",
              "166                       SCH_ACPT_N          0.177148     17.714785   \n",
              "168                       SCH_ACPT_Y          0.169119     16.911929   \n",
              "171                   LOAN_DECLINE_0          0.079112      7.911221   \n",
              "5                    PELL_EFC_CENSUS          0.028651      2.865060   \n",
              "205                 NumberOfVisits_0          0.022351      2.235079   \n",
              "140  PARMARITALSTATUS_Not Applicable          0.021132      2.113176   \n",
              "1                          RECALCGPA          0.018142      1.814213   \n",
              "4                    SCHOLARSHIPTEST          0.016701      1.670127   \n",
              "3                          AdmitDate          0.016519      1.651869   \n",
              "2                            AppDate          0.016435      1.643490   \n",
              "6                       FirstInqDate          0.015174      1.517364   \n",
              "0                                 ID          0.012575      1.257485   \n",
              "164               TUITIONRESIDENCY_R          0.011523      1.152320   \n",
              "167                  SCH_ACPT_NOTAPP          0.011434      1.143422   \n",
              "\n",
              "     Importance_cum  \n",
              "170       19.195026  \n",
              "166       36.909810  \n",
              "168       53.821739  \n",
              "171       61.732960  \n",
              "5         64.598021  \n",
              "205       66.833100  \n",
              "140       68.946276  \n",
              "1         70.760489  \n",
              "4         72.430616  \n",
              "3         74.082485  \n",
              "2         75.725975  \n",
              "6         77.243339  \n",
              "0         78.500824  \n",
              "164       79.653144  \n",
              "167       80.796566  "
            ],
            "text/html": [
              "\n",
              "  <div id=\"df-e932489b-9acd-448b-a6e8-648ca11575e7\">\n",
              "    <div class=\"colab-df-container\">\n",
              "      <div>\n",
              "<style scoped>\n",
              "    .dataframe tbody tr th:only-of-type {\n",
              "        vertical-align: middle;\n",
              "    }\n",
              "\n",
              "    .dataframe tbody tr th {\n",
              "        vertical-align: top;\n",
              "    }\n",
              "\n",
              "    .dataframe thead th {\n",
              "        text-align: right;\n",
              "    }\n",
              "</style>\n",
              "<table border=\"1\" class=\"dataframe\">\n",
              "  <thead>\n",
              "    <tr style=\"text-align: right;\">\n",
              "      <th></th>\n",
              "      <th>Features</th>\n",
              "      <th>Importance score</th>\n",
              "      <th>Importance_%</th>\n",
              "      <th>Importance_cum</th>\n",
              "    </tr>\n",
              "  </thead>\n",
              "  <tbody>\n",
              "    <tr>\n",
              "      <th>170</th>\n",
              "      <td>LOAN_ACPT_0</td>\n",
              "      <td>0.191950</td>\n",
              "      <td>19.195026</td>\n",
              "      <td>19.195026</td>\n",
              "    </tr>\n",
              "    <tr>\n",
              "      <th>166</th>\n",
              "      <td>SCH_ACPT_N</td>\n",
              "      <td>0.177148</td>\n",
              "      <td>17.714785</td>\n",
              "      <td>36.909810</td>\n",
              "    </tr>\n",
              "    <tr>\n",
              "      <th>168</th>\n",
              "      <td>SCH_ACPT_Y</td>\n",
              "      <td>0.169119</td>\n",
              "      <td>16.911929</td>\n",
              "      <td>53.821739</td>\n",
              "    </tr>\n",
              "    <tr>\n",
              "      <th>171</th>\n",
              "      <td>LOAN_DECLINE_0</td>\n",
              "      <td>0.079112</td>\n",
              "      <td>7.911221</td>\n",
              "      <td>61.732960</td>\n",
              "    </tr>\n",
              "    <tr>\n",
              "      <th>5</th>\n",
              "      <td>PELL_EFC_CENSUS</td>\n",
              "      <td>0.028651</td>\n",
              "      <td>2.865060</td>\n",
              "      <td>64.598021</td>\n",
              "    </tr>\n",
              "    <tr>\n",
              "      <th>205</th>\n",
              "      <td>NumberOfVisits_0</td>\n",
              "      <td>0.022351</td>\n",
              "      <td>2.235079</td>\n",
              "      <td>66.833100</td>\n",
              "    </tr>\n",
              "    <tr>\n",
              "      <th>140</th>\n",
              "      <td>PARMARITALSTATUS_Not Applicable</td>\n",
              "      <td>0.021132</td>\n",
              "      <td>2.113176</td>\n",
              "      <td>68.946276</td>\n",
              "    </tr>\n",
              "    <tr>\n",
              "      <th>1</th>\n",
              "      <td>RECALCGPA</td>\n",
              "      <td>0.018142</td>\n",
              "      <td>1.814213</td>\n",
              "      <td>70.760489</td>\n",
              "    </tr>\n",
              "    <tr>\n",
              "      <th>4</th>\n",
              "      <td>SCHOLARSHIPTEST</td>\n",
              "      <td>0.016701</td>\n",
              "      <td>1.670127</td>\n",
              "      <td>72.430616</td>\n",
              "    </tr>\n",
              "    <tr>\n",
              "      <th>3</th>\n",
              "      <td>AdmitDate</td>\n",
              "      <td>0.016519</td>\n",
              "      <td>1.651869</td>\n",
              "      <td>74.082485</td>\n",
              "    </tr>\n",
              "    <tr>\n",
              "      <th>2</th>\n",
              "      <td>AppDate</td>\n",
              "      <td>0.016435</td>\n",
              "      <td>1.643490</td>\n",
              "      <td>75.725975</td>\n",
              "    </tr>\n",
              "    <tr>\n",
              "      <th>6</th>\n",
              "      <td>FirstInqDate</td>\n",
              "      <td>0.015174</td>\n",
              "      <td>1.517364</td>\n",
              "      <td>77.243339</td>\n",
              "    </tr>\n",
              "    <tr>\n",
              "      <th>0</th>\n",
              "      <td>ID</td>\n",
              "      <td>0.012575</td>\n",
              "      <td>1.257485</td>\n",
              "      <td>78.500824</td>\n",
              "    </tr>\n",
              "    <tr>\n",
              "      <th>164</th>\n",
              "      <td>TUITIONRESIDENCY_R</td>\n",
              "      <td>0.011523</td>\n",
              "      <td>1.152320</td>\n",
              "      <td>79.653144</td>\n",
              "    </tr>\n",
              "    <tr>\n",
              "      <th>167</th>\n",
              "      <td>SCH_ACPT_NOTAPP</td>\n",
              "      <td>0.011434</td>\n",
              "      <td>1.143422</td>\n",
              "      <td>80.796566</td>\n",
              "    </tr>\n",
              "  </tbody>\n",
              "</table>\n",
              "</div>\n",
              "      <button class=\"colab-df-convert\" onclick=\"convertToInteractive('df-e932489b-9acd-448b-a6e8-648ca11575e7')\"\n",
              "              title=\"Convert this dataframe to an interactive table.\"\n",
              "              style=\"display:none;\">\n",
              "        \n",
              "  <svg xmlns=\"http://www.w3.org/2000/svg\" height=\"24px\"viewBox=\"0 0 24 24\"\n",
              "       width=\"24px\">\n",
              "    <path d=\"M0 0h24v24H0V0z\" fill=\"none\"/>\n",
              "    <path d=\"M18.56 5.44l.94 2.06.94-2.06 2.06-.94-2.06-.94-.94-2.06-.94 2.06-2.06.94zm-11 1L8.5 8.5l.94-2.06 2.06-.94-2.06-.94L8.5 2.5l-.94 2.06-2.06.94zm10 10l.94 2.06.94-2.06 2.06-.94-2.06-.94-.94-2.06-.94 2.06-2.06.94z\"/><path d=\"M17.41 7.96l-1.37-1.37c-.4-.4-.92-.59-1.43-.59-.52 0-1.04.2-1.43.59L10.3 9.45l-7.72 7.72c-.78.78-.78 2.05 0 2.83L4 21.41c.39.39.9.59 1.41.59.51 0 1.02-.2 1.41-.59l7.78-7.78 2.81-2.81c.8-.78.8-2.07 0-2.86zM5.41 20L4 18.59l7.72-7.72 1.47 1.35L5.41 20z\"/>\n",
              "  </svg>\n",
              "      </button>\n",
              "      \n",
              "  <style>\n",
              "    .colab-df-container {\n",
              "      display:flex;\n",
              "      flex-wrap:wrap;\n",
              "      gap: 12px;\n",
              "    }\n",
              "\n",
              "    .colab-df-convert {\n",
              "      background-color: #E8F0FE;\n",
              "      border: none;\n",
              "      border-radius: 50%;\n",
              "      cursor: pointer;\n",
              "      display: none;\n",
              "      fill: #1967D2;\n",
              "      height: 32px;\n",
              "      padding: 0 0 0 0;\n",
              "      width: 32px;\n",
              "    }\n",
              "\n",
              "    .colab-df-convert:hover {\n",
              "      background-color: #E2EBFA;\n",
              "      box-shadow: 0px 1px 2px rgba(60, 64, 67, 0.3), 0px 1px 3px 1px rgba(60, 64, 67, 0.15);\n",
              "      fill: #174EA6;\n",
              "    }\n",
              "\n",
              "    [theme=dark] .colab-df-convert {\n",
              "      background-color: #3B4455;\n",
              "      fill: #D2E3FC;\n",
              "    }\n",
              "\n",
              "    [theme=dark] .colab-df-convert:hover {\n",
              "      background-color: #434B5C;\n",
              "      box-shadow: 0px 1px 3px 1px rgba(0, 0, 0, 0.15);\n",
              "      filter: drop-shadow(0px 1px 2px rgba(0, 0, 0, 0.3));\n",
              "      fill: #FFFFFF;\n",
              "    }\n",
              "  </style>\n",
              "\n",
              "      <script>\n",
              "        const buttonEl =\n",
              "          document.querySelector('#df-e932489b-9acd-448b-a6e8-648ca11575e7 button.colab-df-convert');\n",
              "        buttonEl.style.display =\n",
              "          google.colab.kernel.accessAllowed ? 'block' : 'none';\n",
              "\n",
              "        async function convertToInteractive(key) {\n",
              "          const element = document.querySelector('#df-e932489b-9acd-448b-a6e8-648ca11575e7');\n",
              "          const dataTable =\n",
              "            await google.colab.kernel.invokeFunction('convertToInteractive',\n",
              "                                                     [key], {});\n",
              "          if (!dataTable) return;\n",
              "\n",
              "          const docLinkHtml = 'Like what you see? Visit the ' +\n",
              "            '<a target=\"_blank\" href=https://colab.research.google.com/notebooks/data_table.ipynb>data table notebook</a>'\n",
              "            + ' to learn more about interactive tables.';\n",
              "          element.innerHTML = '';\n",
              "          dataTable['output_type'] = 'display_data';\n",
              "          await google.colab.output.renderOutput(dataTable, element);\n",
              "          const docLink = document.createElement('div');\n",
              "          docLink.innerHTML = docLinkHtml;\n",
              "          element.appendChild(docLink);\n",
              "        }\n",
              "      </script>\n",
              "    </div>\n",
              "  </div>\n",
              "  "
            ]
          },
          "metadata": {},
          "execution_count": 36
        }
      ],
      "source": [
        "feature_list = list(x_train.columns)\n",
        "importances = list(rf_fit.feature_importances_)\n",
        "\n",
        "feature_importances =pd.DataFrame(zip(feature_list, importances), columns=['Features', 'Importance score'])\n",
        "feature_importances['Importance_%'] = (feature_importances['Importance score']*100)\n",
        "feature_importances = feature_importances.sort_values(by='Importance_%', axis=0, ascending= False )\n",
        "feature_importances['Importance_cum'] = np.cumsum(feature_importances['Importance_%'])\n",
        "\n",
        "feature_importances[feature_importances['Importance_%']>0.5][:15]"
      ]
    },
    {
      "cell_type": "code",
      "execution_count": 37,
      "metadata": {
        "colab": {
          "base_uri": "https://localhost:8080/",
          "height": 0
        },
        "id": "eRta_ImVkI9r",
        "outputId": "1b81181c-41ee-4fea-ea57-acd9cac870bf"
      },
      "outputs": [
        {
          "output_type": "execute_result",
          "data": {
            "text/plain": [
              "<matplotlib.axes._subplots.AxesSubplot at 0x7fc8c2a45f90>"
            ]
          },
          "metadata": {},
          "execution_count": 37
        },
        {
          "output_type": "display_data",
          "data": {
            "text/plain": [
              "<Figure size 842.4x595.44 with 1 Axes>"
            ],
            "image/png": "[encoded data removed]"
          },
          "metadata": {}
        }
      ],
      "source": [
        "sns.set(rc={'figure.figsize':(11.7,8.27)})\n",
        "\n",
        "sns.barplot(y=\"Features\", \n",
        "            x=\"Importance_%\", \n",
        "            data=feature_importances[feature_importances['Importance_%']>0.5],\n",
        "            orient='h',\n",
        "            color= \"blue\",\n",
        "            \n",
        "            order=feature_importances[feature_importances['Importance_%']>0.5].sort_values('Importance_%',ascending = False).Features)\n"
      ]
    },
    {
      "cell_type": "markdown",
      "metadata": {
        "id": "sBJ-JSZhkgRb"
      },
      "source": [
        "#Support Vector Machines(SVM)"
      ]
    },
    {
      "cell_type": "code",
      "execution_count": 47,
      "metadata": {
        "id": "4mJO9Jcrkm-E"
      },
      "outputs": [],
      "source": [
        "scaler = StandardScaler()\n",
        "x_train_s = scaler.fit_transform( x_train_ovrs )\n",
        "x_test_s = scaler.fit_transform( x_test )"
      ]
    },
    {
      "cell_type": "code",
      "execution_count": null,
      "metadata": {
        "colab": {
          "base_uri": "https://localhost:8080/"
        },
        "id": "6MVu8sS7O0UB",
        "outputId": "a02993b0-4aee-436c-b8a0-c5ac53f96320"
      },
      "outputs": [
        {
          "name": "stdout",
          "output_type": "stream",
          "text": [
            "Fitting 5 folds for each of 48 candidates, totalling 240 fits\n",
            "[CV] END .........................C=0.1, gamma=1, kernel=rbf; total time=  38.8s\n",
            "[CV] END .........................C=0.1, gamma=1, kernel=rbf; total time=  58.4s\n",
            "[CV] END .........................C=0.1, gamma=1, kernel=rbf; total time=  57.4s\n",
            "[CV] END .........................C=0.1, gamma=1, kernel=rbf; total time=  55.2s\n",
            "[CV] END .........................C=0.1, gamma=1, kernel=rbf; total time=  56.1s\n",
            "[CV] END ........................C=0.1, gamma=1, kernel=poly; total time=  13.6s\n",
            "[CV] END ........................C=0.1, gamma=1, kernel=poly; total time=  10.6s\n",
            "[CV] END ........................C=0.1, gamma=1, kernel=poly; total time=  10.5s\n",
            "[CV] END ........................C=0.1, gamma=1, kernel=poly; total time=  10.2s\n",
            "[CV] END ........................C=0.1, gamma=1, kernel=poly; total time=  10.6s\n",
            "[CV] END .....................C=0.1, gamma=1, kernel=sigmoid; total time=  16.1s\n",
            "[CV] END .....................C=0.1, gamma=1, kernel=sigmoid; total time=  14.4s\n",
            "[CV] END .....................C=0.1, gamma=1, kernel=sigmoid; total time=  11.5s\n",
            "[CV] END .....................C=0.1, gamma=1, kernel=sigmoid; total time=  11.5s\n",
            "[CV] END .....................C=0.1, gamma=1, kernel=sigmoid; total time=  11.6s\n",
            "[CV] END .......................C=0.1, gamma=0.1, kernel=rbf; total time=  38.2s\n",
            "[CV] END .......................C=0.1, gamma=0.1, kernel=rbf; total time=  54.8s\n",
            "[CV] END .......................C=0.1, gamma=0.1, kernel=rbf; total time=  54.6s\n",
            "[CV] END .......................C=0.1, gamma=0.1, kernel=rbf; total time=  56.2s\n",
            "[CV] END .......................C=0.1, gamma=0.1, kernel=rbf; total time=  57.8s\n",
            "[CV] END ......................C=0.1, gamma=0.1, kernel=poly; total time=  15.6s\n",
            "[CV] END ......................C=0.1, gamma=0.1, kernel=poly; total time=  14.7s\n",
            "[CV] END ......................C=0.1, gamma=0.1, kernel=poly; total time=  20.3s\n",
            "[CV] END ......................C=0.1, gamma=0.1, kernel=poly; total time=  19.4s\n",
            "[CV] END ......................C=0.1, gamma=0.1, kernel=poly; total time=  20.9s\n",
            "[CV] END ...................C=0.1, gamma=0.1, kernel=sigmoid; total time=  10.5s\n",
            "[CV] END ...................C=0.1, gamma=0.1, kernel=sigmoid; total time=  10.1s\n",
            "[CV] END ...................C=0.1, gamma=0.1, kernel=sigmoid; total time=  11.7s\n",
            "[CV] END ...................C=0.1, gamma=0.1, kernel=sigmoid; total time=  11.6s\n",
            "[CV] END ...................C=0.1, gamma=0.1, kernel=sigmoid; total time=  11.0s\n",
            "[CV] END ......................C=0.1, gamma=0.01, kernel=rbf; total time=  24.9s\n",
            "[CV] END ......................C=0.1, gamma=0.01, kernel=rbf; total time=  27.4s\n",
            "[CV] END ......................C=0.1, gamma=0.01, kernel=rbf; total time=  29.5s\n",
            "[CV] END ......................C=0.1, gamma=0.01, kernel=rbf; total time=  29.5s\n",
            "[CV] END ......................C=0.1, gamma=0.01, kernel=rbf; total time=  27.3s\n",
            "[CV] END .....................C=0.1, gamma=0.01, kernel=poly; total time=  24.1s\n",
            "[CV] END .....................C=0.1, gamma=0.01, kernel=poly; total time=  24.1s\n",
            "[CV] END .....................C=0.1, gamma=0.01, kernel=poly; total time=  25.2s\n",
            "[CV] END .....................C=0.1, gamma=0.01, kernel=poly; total time=  25.1s\n",
            "[CV] END .....................C=0.1, gamma=0.01, kernel=poly; total time=  24.8s\n",
            "[CV] END ..................C=0.1, gamma=0.01, kernel=sigmoid; total time=  10.3s\n",
            "[CV] END ..................C=0.1, gamma=0.01, kernel=sigmoid; total time=  11.2s\n",
            "[CV] END ..................C=0.1, gamma=0.01, kernel=sigmoid; total time=  11.5s\n",
            "[CV] END ..................C=0.1, gamma=0.01, kernel=sigmoid; total time=  12.9s\n",
            "[CV] END ..................C=0.1, gamma=0.01, kernel=sigmoid; total time=  12.8s\n",
            "[CV] END .....................C=0.1, gamma=0.001, kernel=rbf; total time=  22.9s\n",
            "[CV] END .....................C=0.1, gamma=0.001, kernel=rbf; total time=  23.8s\n",
            "[CV] END .....................C=0.1, gamma=0.001, kernel=rbf; total time=  25.6s\n",
            "[CV] END .....................C=0.1, gamma=0.001, kernel=rbf; total time=  26.6s\n",
            "[CV] END .....................C=0.1, gamma=0.001, kernel=rbf; total time=  26.3s\n",
            "[CV] END ....................C=0.1, gamma=0.001, kernel=poly; total time=  34.1s\n",
            "[CV] END ....................C=0.1, gamma=0.001, kernel=poly; total time=  34.3s\n",
            "[CV] END ....................C=0.1, gamma=0.001, kernel=poly; total time=  33.6s\n",
            "[CV] END ....................C=0.1, gamma=0.001, kernel=poly; total time=  33.4s\n",
            "[CV] END ....................C=0.1, gamma=0.001, kernel=poly; total time=  33.0s\n",
            "[CV] END .................C=0.1, gamma=0.001, kernel=sigmoid; total time=  22.2s\n",
            "[CV] END .................C=0.1, gamma=0.001, kernel=sigmoid; total time=  24.0s\n",
            "[CV] END .................C=0.1, gamma=0.001, kernel=sigmoid; total time=  23.9s\n",
            "[CV] END .................C=0.1, gamma=0.001, kernel=sigmoid; total time=  26.1s\n",
            "[CV] END .................C=0.1, gamma=0.001, kernel=sigmoid; total time=  26.8s\n",
            "[CV] END ...........................C=1, gamma=1, kernel=rbf; total time= 1.5min\n",
            "[CV] END ...........................C=1, gamma=1, kernel=rbf; total time= 1.3min\n",
            "[CV] END ...........................C=1, gamma=1, kernel=rbf; total time= 1.3min\n",
            "[CV] END ...........................C=1, gamma=1, kernel=rbf; total time= 1.6min\n",
            "[CV] END ...........................C=1, gamma=1, kernel=rbf; total time= 1.6min\n",
            "[CV] END ..........................C=1, gamma=1, kernel=poly; total time=  13.7s\n",
            "[CV] END ..........................C=1, gamma=1, kernel=poly; total time=  10.1s\n",
            "[CV] END ..........................C=1, gamma=1, kernel=poly; total time=   9.7s\n",
            "[CV] END ..........................C=1, gamma=1, kernel=poly; total time=   9.9s\n",
            "[CV] END ..........................C=1, gamma=1, kernel=poly; total time=   9.7s\n",
            "[CV] END .......................C=1, gamma=1, kernel=sigmoid; total time=  14.4s\n",
            "[CV] END .......................C=1, gamma=1, kernel=sigmoid; total time=  12.9s\n",
            "[CV] END .......................C=1, gamma=1, kernel=sigmoid; total time=  11.1s\n",
            "[CV] END .......................C=1, gamma=1, kernel=sigmoid; total time=  10.9s\n",
            "[CV] END .......................C=1, gamma=1, kernel=sigmoid; total time=  11.2s\n",
            "[CV] END .........................C=1, gamma=0.1, kernel=rbf; total time= 1.7min\n",
            "[CV] END .........................C=1, gamma=0.1, kernel=rbf; total time= 1.6min\n",
            "[CV] END .........................C=1, gamma=0.1, kernel=rbf; total time= 1.7min\n",
            "[CV] END .........................C=1, gamma=0.1, kernel=rbf; total time= 1.9min\n",
            "[CV] END .........................C=1, gamma=0.1, kernel=rbf; total time= 1.8min\n",
            "[CV] END ........................C=1, gamma=0.1, kernel=poly; total time=  13.5s\n",
            "[CV] END ........................C=1, gamma=0.1, kernel=poly; total time=  11.2s\n",
            "[CV] END ........................C=1, gamma=0.1, kernel=poly; total time=  15.9s\n",
            "[CV] END ........................C=1, gamma=0.1, kernel=poly; total time=  15.1s\n",
            "[CV] END ........................C=1, gamma=0.1, kernel=poly; total time=  15.2s\n",
            "[CV] END .....................C=1, gamma=0.1, kernel=sigmoid; total time=   9.4s\n",
            "[CV] END .....................C=1, gamma=0.1, kernel=sigmoid; total time=   9.5s\n",
            "[CV] END .....................C=1, gamma=0.1, kernel=sigmoid; total time=   9.5s\n",
            "[CV] END .....................C=1, gamma=0.1, kernel=sigmoid; total time=  10.6s\n",
            "[CV] END .....................C=1, gamma=0.1, kernel=sigmoid; total time=  11.6s\n",
            "[CV] END ........................C=1, gamma=0.01, kernel=rbf; total time=  15.3s\n",
            "[CV] END ........................C=1, gamma=0.01, kernel=rbf; total time=  15.6s\n",
            "[CV] END ........................C=1, gamma=0.01, kernel=rbf; total time=  17.0s\n",
            "[CV] END ........................C=1, gamma=0.01, kernel=rbf; total time=  17.3s\n",
            "[CV] END ........................C=1, gamma=0.01, kernel=rbf; total time=  16.7s\n",
            "[CV] END .......................C=1, gamma=0.01, kernel=poly; total time=  15.6s\n",
            "[CV] END .......................C=1, gamma=0.01, kernel=poly; total time=  16.8s\n",
            "[CV] END .......................C=1, gamma=0.01, kernel=poly; total time=  18.7s\n",
            "[CV] END .......................C=1, gamma=0.01, kernel=poly; total time=  19.1s\n",
            "[CV] END .......................C=1, gamma=0.01, kernel=poly; total time=  22.1s\n",
            "[CV] END ....................C=1, gamma=0.01, kernel=sigmoid; total time=   5.6s\n",
            "[CV] END ....................C=1, gamma=0.01, kernel=sigmoid; total time=   5.8s\n",
            "[CV] END ....................C=1, gamma=0.01, kernel=sigmoid; total time=   6.5s\n",
            "[CV] END ....................C=1, gamma=0.01, kernel=sigmoid; total time=   6.5s\n",
            "[CV] END ....................C=1, gamma=0.01, kernel=sigmoid; total time=   6.8s\n",
            "[CV] END .......................C=1, gamma=0.001, kernel=rbf; total time=   9.5s\n",
            "[CV] END .......................C=1, gamma=0.001, kernel=rbf; total time=  10.2s\n",
            "[CV] END .......................C=1, gamma=0.001, kernel=rbf; total time=  11.1s\n",
            "[CV] END .......................C=1, gamma=0.001, kernel=rbf; total time=  12.1s\n",
            "[CV] END .......................C=1, gamma=0.001, kernel=rbf; total time=  12.3s\n",
            "[CV] END ......................C=1, gamma=0.001, kernel=poly; total time=  34.2s\n",
            "[CV] END ......................C=1, gamma=0.001, kernel=poly; total time=  36.1s\n",
            "[CV] END ......................C=1, gamma=0.001, kernel=poly; total time=  32.8s\n",
            "[CV] END ......................C=1, gamma=0.001, kernel=poly; total time=  32.9s\n",
            "[CV] END ......................C=1, gamma=0.001, kernel=poly; total time=  32.6s\n",
            "[CV] END ...................C=1, gamma=0.001, kernel=sigmoid; total time=  10.8s\n",
            "[CV] END ...................C=1, gamma=0.001, kernel=sigmoid; total time=  11.3s\n",
            "[CV] END ...................C=1, gamma=0.001, kernel=sigmoid; total time=  13.0s\n",
            "[CV] END ...................C=1, gamma=0.001, kernel=sigmoid; total time=  13.3s\n",
            "[CV] END ...................C=1, gamma=0.001, kernel=sigmoid; total time=  13.3s\n",
            "[CV] END ..........................C=10, gamma=1, kernel=rbf; total time= 2.1min\n",
            "[CV] END ..........................C=10, gamma=1, kernel=rbf; total time= 2.1min\n",
            "[CV] END ..........................C=10, gamma=1, kernel=rbf; total time= 2.1min\n",
            "[CV] END ..........................C=10, gamma=1, kernel=rbf; total time= 2.2min\n",
            "[CV] END ..........................C=10, gamma=1, kernel=rbf; total time= 2.2min\n",
            "[CV] END .........................C=10, gamma=1, kernel=poly; total time=  14.0s\n",
            "[CV] END .........................C=10, gamma=1, kernel=poly; total time=  10.2s\n",
            "[CV] END .........................C=10, gamma=1, kernel=poly; total time=  10.0s\n",
            "[CV] END .........................C=10, gamma=1, kernel=poly; total time=   9.7s\n",
            "[CV] END .........................C=10, gamma=1, kernel=poly; total time=   9.6s\n",
            "[CV] END ......................C=10, gamma=1, kernel=sigmoid; total time=  13.8s\n",
            "[CV] END ......................C=10, gamma=1, kernel=sigmoid; total time=  13.9s\n",
            "[CV] END ......................C=10, gamma=1, kernel=sigmoid; total time=  11.2s\n",
            "[CV] END ......................C=10, gamma=1, kernel=sigmoid; total time=  11.4s\n",
            "[CV] END ......................C=10, gamma=1, kernel=sigmoid; total time=  11.3s\n",
            "[CV] END ........................C=10, gamma=0.1, kernel=rbf; total time= 1.8min\n",
            "[CV] END ........................C=10, gamma=0.1, kernel=rbf; total time= 1.8min\n",
            "[CV] END ........................C=10, gamma=0.1, kernel=rbf; total time= 2.0min\n",
            "[CV] END ........................C=10, gamma=0.1, kernel=rbf; total time= 2.0min\n",
            "[CV] END ........................C=10, gamma=0.1, kernel=rbf; total time= 2.0min\n",
            "[CV] END .......................C=10, gamma=0.1, kernel=poly; total time=  13.9s\n",
            "[CV] END .......................C=10, gamma=0.1, kernel=poly; total time=  11.3s\n",
            "[CV] END .......................C=10, gamma=0.1, kernel=poly; total time=  10.5s\n",
            "[CV] END .......................C=10, gamma=0.1, kernel=poly; total time=  10.1s\n",
            "[CV] END .......................C=10, gamma=0.1, kernel=poly; total time=  10.9s\n",
            "[CV] END ....................C=10, gamma=0.1, kernel=sigmoid; total time=   9.9s\n",
            "[CV] END ....................C=10, gamma=0.1, kernel=sigmoid; total time=   8.7s\n",
            "[CV] END ....................C=10, gamma=0.1, kernel=sigmoid; total time=  10.0s\n",
            "[CV] END ....................C=10, gamma=0.1, kernel=sigmoid; total time=   9.8s\n",
            "[CV] END ....................C=10, gamma=0.1, kernel=sigmoid; total time=  10.7s\n",
            "[CV] END .......................C=10, gamma=0.01, kernel=rbf; total time=  19.0s\n",
            "[CV] END .......................C=10, gamma=0.01, kernel=rbf; total time=  20.6s\n",
            "[CV] END .......................C=10, gamma=0.01, kernel=rbf; total time=  26.3s\n",
            "[CV] END .......................C=10, gamma=0.01, kernel=rbf; total time=  26.4s\n",
            "[CV] END .......................C=10, gamma=0.01, kernel=rbf; total time=  26.1s\n",
            "[CV] END ......................C=10, gamma=0.01, kernel=poly; total time=  16.1s\n",
            "[CV] END ......................C=10, gamma=0.01, kernel=poly; total time=  16.6s\n",
            "[CV] END ......................C=10, gamma=0.01, kernel=poly; total time=  19.5s\n",
            "[CV] END ......................C=10, gamma=0.01, kernel=poly; total time=  20.0s\n",
            "[CV] END ......................C=10, gamma=0.01, kernel=poly; total time=  21.6s\n",
            "[CV] END ...................C=10, gamma=0.01, kernel=sigmoid; total time=   4.5s\n",
            "[CV] END ...................C=10, gamma=0.01, kernel=sigmoid; total time=   4.7s\n",
            "[CV] END ...................C=10, gamma=0.01, kernel=sigmoid; total time=   5.2s\n",
            "[CV] END ...................C=10, gamma=0.01, kernel=sigmoid; total time=   5.5s\n",
            "[CV] END ...................C=10, gamma=0.01, kernel=sigmoid; total time=   5.9s\n",
            "[CV] END ......................C=10, gamma=0.001, kernel=rbf; total time=   6.7s\n",
            "[CV] END ......................C=10, gamma=0.001, kernel=rbf; total time=   6.8s\n",
            "[CV] END ......................C=10, gamma=0.001, kernel=rbf; total time=   7.7s\n",
            "[CV] END ......................C=10, gamma=0.001, kernel=rbf; total time=   8.2s\n",
            "[CV] END ......................C=10, gamma=0.001, kernel=rbf; total time=   8.0s\n",
            "[CV] END .....................C=10, gamma=0.001, kernel=poly; total time=  30.1s\n",
            "[CV] END .....................C=10, gamma=0.001, kernel=poly; total time=  31.2s\n",
            "[CV] END .....................C=10, gamma=0.001, kernel=poly; total time=  31.8s\n",
            "[CV] END .....................C=10, gamma=0.001, kernel=poly; total time=  32.4s\n",
            "[CV] END .....................C=10, gamma=0.001, kernel=poly; total time=  31.2s\n",
            "[CV] END ..................C=10, gamma=0.001, kernel=sigmoid; total time=   6.4s\n",
            "[CV] END ..................C=10, gamma=0.001, kernel=sigmoid; total time=   5.9s\n",
            "[CV] END ..................C=10, gamma=0.001, kernel=sigmoid; total time=   6.8s\n",
            "[CV] END ..................C=10, gamma=0.001, kernel=sigmoid; total time=   7.5s\n",
            "[CV] END ..................C=10, gamma=0.001, kernel=sigmoid; total time=   7.0s\n",
            "[CV] END .........................C=100, gamma=1, kernel=rbf; total time= 2.1min\n",
            "[CV] END .........................C=100, gamma=1, kernel=rbf; total time= 2.1min\n",
            "[CV] END .........................C=100, gamma=1, kernel=rbf; total time= 2.2min\n",
            "[CV] END .........................C=100, gamma=1, kernel=rbf; total time= 2.2min\n",
            "[CV] END .........................C=100, gamma=1, kernel=rbf; total time= 2.2min\n",
            "[CV] END ........................C=100, gamma=1, kernel=poly; total time=  13.6s\n",
            "[CV] END ........................C=100, gamma=1, kernel=poly; total time=  10.3s\n",
            "[CV] END ........................C=100, gamma=1, kernel=poly; total time=   9.8s\n",
            "[CV] END ........................C=100, gamma=1, kernel=poly; total time=  10.1s\n",
            "[CV] END ........................C=100, gamma=1, kernel=poly; total time=  10.1s\n",
            "[CV] END .....................C=100, gamma=1, kernel=sigmoid; total time=  14.4s\n",
            "[CV] END .....................C=100, gamma=1, kernel=sigmoid; total time=  14.0s\n",
            "[CV] END .....................C=100, gamma=1, kernel=sigmoid; total time=  11.3s\n",
            "[CV] END .....................C=100, gamma=1, kernel=sigmoid; total time=  11.4s\n",
            "[CV] END .....................C=100, gamma=1, kernel=sigmoid; total time=  11.8s\n",
            "[CV] END .......................C=100, gamma=0.1, kernel=rbf; total time= 1.8min\n",
            "[CV] END .......................C=100, gamma=0.1, kernel=rbf; total time= 1.8min\n",
            "[CV] END .......................C=100, gamma=0.1, kernel=rbf; total time= 1.8min\n",
            "[CV] END .......................C=100, gamma=0.1, kernel=rbf; total time= 1.8min\n",
            "[CV] END .......................C=100, gamma=0.1, kernel=rbf; total time= 1.8min\n",
            "[CV] END ......................C=100, gamma=0.1, kernel=poly; total time=  13.6s\n",
            "[CV] END ......................C=100, gamma=0.1, kernel=poly; total time=  11.3s\n",
            "[CV] END ......................C=100, gamma=0.1, kernel=poly; total time=  11.1s\n",
            "[CV] END ......................C=100, gamma=0.1, kernel=poly; total time=  10.7s\n",
            "[CV] END ......................C=100, gamma=0.1, kernel=poly; total time=  11.1s\n",
            "[CV] END ...................C=100, gamma=0.1, kernel=sigmoid; total time=  10.2s\n",
            "[CV] END ...................C=100, gamma=0.1, kernel=sigmoid; total time=   8.0s\n",
            "[CV] END ...................C=100, gamma=0.1, kernel=sigmoid; total time=   9.4s\n",
            "[CV] END ...................C=100, gamma=0.1, kernel=sigmoid; total time=   9.8s\n",
            "[CV] END ...................C=100, gamma=0.1, kernel=sigmoid; total time=  12.1s\n",
            "[CV] END ......................C=100, gamma=0.01, kernel=rbf; total time=  18.6s\n",
            "[CV] END ......................C=100, gamma=0.01, kernel=rbf; total time=  19.4s\n",
            "[CV] END ......................C=100, gamma=0.01, kernel=rbf; total time=  24.7s\n",
            "[CV] END ......................C=100, gamma=0.01, kernel=rbf; total time=  25.1s\n",
            "[CV] END ......................C=100, gamma=0.01, kernel=rbf; total time=  26.8s\n",
            "[CV] END .....................C=100, gamma=0.01, kernel=poly; total time=  13.7s\n",
            "[CV] END .....................C=100, gamma=0.01, kernel=poly; total time=  12.8s\n",
            "[CV] END .....................C=100, gamma=0.01, kernel=poly; total time=  16.5s\n",
            "[CV] END .....................C=100, gamma=0.01, kernel=poly; total time=  15.8s\n",
            "[CV] END .....................C=100, gamma=0.01, kernel=poly; total time=  16.8s\n",
            "[CV] END ..................C=100, gamma=0.01, kernel=sigmoid; total time=   4.1s\n",
            "[CV] END ..................C=100, gamma=0.01, kernel=sigmoid; total time=   4.5s\n",
            "[CV] END ..................C=100, gamma=0.01, kernel=sigmoid; total time=   4.9s\n",
            "[CV] END ..................C=100, gamma=0.01, kernel=sigmoid; total time=   5.1s\n",
            "[CV] END ..................C=100, gamma=0.01, kernel=sigmoid; total time=   5.2s\n",
            "[CV] END .....................C=100, gamma=0.001, kernel=rbf; total time=   6.7s\n",
            "[CV] END .....................C=100, gamma=0.001, kernel=rbf; total time=   7.5s\n",
            "[CV] END .....................C=100, gamma=0.001, kernel=rbf; total time=   8.3s\n",
            "[CV] END .....................C=100, gamma=0.001, kernel=rbf; total time=   8.5s\n",
            "[CV] END .....................C=100, gamma=0.001, kernel=rbf; total time=   8.6s\n",
            "[CV] END ....................C=100, gamma=0.001, kernel=poly; total time=  23.0s\n",
            "[CV] END ....................C=100, gamma=0.001, kernel=poly; total time=  23.8s\n",
            "[CV] END ....................C=100, gamma=0.001, kernel=poly; total time=  24.4s\n",
            "[CV] END ....................C=100, gamma=0.001, kernel=poly; total time=  24.5s\n",
            "[CV] END ....................C=100, gamma=0.001, kernel=poly; total time=  25.5s\n",
            "[CV] END .................C=100, gamma=0.001, kernel=sigmoid; total time=   6.4s\n",
            "[CV] END .................C=100, gamma=0.001, kernel=sigmoid; total time=   5.6s\n",
            "[CV] END .................C=100, gamma=0.001, kernel=sigmoid; total time=   7.1s\n",
            "[CV] END .................C=100, gamma=0.001, kernel=sigmoid; total time=   7.3s\n",
            "[CV] END .................C=100, gamma=0.001, kernel=sigmoid; total time=   7.2s\n"
          ]
        },
        {
          "data": {
            "text/plain": [
              "GridSearchCV(estimator=SVC(class_weight='balanced'),\n",
              "             param_grid={'C': [0.1, 1, 10, 100], 'gamma': [1, 0.1, 0.01, 0.001],\n",
              "                         'kernel': ['rbf', 'poly', 'sigmoid']},\n",
              "             verbose=2)"
            ]
          },
          "execution_count": 39,
          "metadata": {},
          "output_type": "execute_result"
        }
      ],
      "source": [
        "model_svm = svm.SVC(class_weight='balanced')\n",
        "param = {'C': [0.1,1, 10, 100], 'gamma': [1,0.1,0.01,0.001],'kernel': ['rbf', 'poly', 'sigmoid']}\n",
        "svm_grid = GridSearchCV(model_svm, param , refit=True, verbose=2)\n",
        "svm_grid.fit(x_train_s,y_train_ovrs)"
      ]
    },
    {
      "cell_type": "code",
      "execution_count": null,
      "metadata": {
        "colab": {
          "base_uri": "https://localhost:8080/"
        },
        "id": "rAcIAYDgqOry",
        "outputId": "97740ed5-4fd0-4768-d2cc-3aa1ce662b51"
      },
      "outputs": [
        {
          "data": {
            "text/plain": [
              "SVC(C=10, class_weight='balanced', gamma=0.01, kernel='poly')"
            ]
          },
          "execution_count": 42,
          "metadata": {},
          "output_type": "execute_result"
        }
      ],
      "source": [
        "svm_grid.best_estimator_"
      ]
    },
    {
      "cell_type": "code",
      "execution_count": 48,
      "metadata": {
        "colab": {
          "base_uri": "https://localhost:8080/"
        },
        "id": "4MuGB5Ff9_wI",
        "outputId": "b3016b4c-6fb3-4306-ff32-bdbc6351cb37"
      },
      "outputs": [
        {
          "output_type": "stream",
          "name": "stdout",
          "text": [
            "Accuracy using kernal function is: 90.14999999999999\n"
          ]
        }
      ],
      "source": [
        "model_svm_best = svm.SVC(C=10, class_weight='balanced', gamma=0.01, kernel='poly')\n",
        "svmmodel_fit = model_svm_best.fit(x_train_s,y_train_ovrs)\n",
        "svm_pred = svmmodel_fit.predict(x_test_s)\n",
        "print('Accuracy using kernal function is:' , round(accuracy_score(y_test, svm_pred),4)*100)"
      ]
    },
    {
      "cell_type": "code",
      "execution_count": 49,
      "metadata": {
        "colab": {
          "base_uri": "https://localhost:8080/"
        },
        "id": "y4auPVIs95En",
        "outputId": "9a094034-9f76-4bd2-c10b-62ee57a94655"
      },
      "outputs": [
        {
          "output_type": "stream",
          "name": "stdout",
          "text": [
            "ROC/AUC score: 0.9032\n",
            "Accuracy: 0.9015\n",
            "F1 score: 0.9315\n",
            "Recall: 0.8997\n",
            "Precision: 0.9656\n",
            "\n",
            " clasification report:\n",
            "               precision    recall  f1-score   support\n",
            "\n",
            "           0       0.76      0.91      0.82      1212\n",
            "           1       0.97      0.90      0.93      3528\n",
            "\n",
            "    accuracy                           0.90      4740\n",
            "   macro avg       0.86      0.90      0.88      4740\n",
            "weighted avg       0.91      0.90      0.90      4740\n",
            "\n",
            "\n",
            " confussion matrix:\n",
            " [[1099  113]\n",
            " [ 354 3174]]\n"
          ]
        }
      ],
      "source": [
        "print('ROC/AUC score:',round(roc_auc_score(y_test, svm_pred),4))\n",
        "print('Accuracy:', round(accuracy_score(y_test, svm_pred),4))\n",
        "print ('F1 score:', round(f1_score(y_test, svm_pred),4))\n",
        "print ('Recall:', round(recall_score(y_test, svm_pred),4))\n",
        "print ('Precision:', round(precision_score(y_test, svm_pred),4))\n",
        "print ('\\n clasification report:\\n', classification_report(y_test, svm_pred))\n",
        "print ('\\n confussion matrix:\\n',confusion_matrix(y_test, svm_pred))"
      ]
    },
    {
      "cell_type": "markdown",
      "metadata": {
        "id": "w3Ls1si1ktZM"
      },
      "source": [
        "#Gradient Boosting Classifier"
      ]
    },
    {
      "cell_type": "code",
      "execution_count": null,
      "metadata": {
        "colab": {
          "background_save": true,
          "base_uri": "https://localhost:8080/"
        },
        "id": "DGhspCiLdhWM",
        "outputId": "e90a6283-287e-44ff-c328-01839e47441d"
      },
      "outputs": [
        {
          "name": "stdout",
          "output_type": "stream",
          "text": [
            "Fitting 2 folds for each of 432 candidates, totalling 864 fits\n"
          ]
        },
        {
          "data": {
            "text/html": [
              "\n",
              "  <div id=\"df-5fd4ba89-6ca5-44e4-8536-7f6893170ba0\">\n",
              "    <div class=\"colab-df-container\">\n",
              "      <div>\n",
              "<style scoped>\n",
              "    .dataframe tbody tr th:only-of-type {\n",
              "        vertical-align: middle;\n",
              "    }\n",
              "\n",
              "    .dataframe tbody tr th {\n",
              "        vertical-align: top;\n",
              "    }\n",
              "\n",
              "    .dataframe thead th {\n",
              "        text-align: right;\n",
              "    }\n",
              "</style>\n",
              "<table border=\"1\" class=\"dataframe\">\n",
              "  <thead>\n",
              "    <tr style=\"text-align: right;\">\n",
              "      <th></th>\n",
              "      <th>split0_test_accuracy</th>\n",
              "      <th>split1_test_accuracy</th>\n",
              "      <th>split0_test_precision</th>\n",
              "      <th>split1_test_precision</th>\n",
              "      <th>split0_test_recall</th>\n",
              "      <th>split1_test_recall</th>\n",
              "    </tr>\n",
              "  </thead>\n",
              "  <tbody>\n",
              "    <tr>\n",
              "      <th>0</th>\n",
              "      <td>0.862140</td>\n",
              "      <td>0.984210</td>\n",
              "      <td>0.787949</td>\n",
              "      <td>0.995032</td>\n",
              "      <td>0.991013</td>\n",
              "      <td>0.973275</td>\n",
              "    </tr>\n",
              "    <tr>\n",
              "      <th>1</th>\n",
              "      <td>0.836390</td>\n",
              "      <td>0.961496</td>\n",
              "      <td>0.756862</td>\n",
              "      <td>0.987426</td>\n",
              "      <td>0.991256</td>\n",
              "      <td>0.934888</td>\n",
              "    </tr>\n",
              "    <tr>\n",
              "      <th>2</th>\n",
              "      <td>0.819507</td>\n",
              "      <td>0.963926</td>\n",
              "      <td>0.743656</td>\n",
              "      <td>0.993538</td>\n",
              "      <td>0.975225</td>\n",
              "      <td>0.933916</td>\n",
              "    </tr>\n",
              "    <tr>\n",
              "      <th>3</th>\n",
              "      <td>0.855338</td>\n",
              "      <td>0.958217</td>\n",
              "      <td>0.781563</td>\n",
              "      <td>0.978195</td>\n",
              "      <td>0.986398</td>\n",
              "      <td>0.937318</td>\n",
              "    </tr>\n",
              "    <tr>\n",
              "      <th>4</th>\n",
              "      <td>0.819871</td>\n",
              "      <td>0.963075</td>\n",
              "      <td>0.741651</td>\n",
              "      <td>0.987967</td>\n",
              "      <td>0.981783</td>\n",
              "      <td>0.937561</td>\n",
              "    </tr>\n",
              "    <tr>\n",
              "      <th>...</th>\n",
              "      <td>...</td>\n",
              "      <td>...</td>\n",
              "      <td>...</td>\n",
              "      <td>...</td>\n",
              "      <td>...</td>\n",
              "      <td>...</td>\n",
              "    </tr>\n",
              "    <tr>\n",
              "      <th>427</th>\n",
              "      <td>0.873679</td>\n",
              "      <td>0.986396</td>\n",
              "      <td>0.801135</td>\n",
              "      <td>0.997762</td>\n",
              "      <td>0.994171</td>\n",
              "      <td>0.974976</td>\n",
              "    </tr>\n",
              "    <tr>\n",
              "      <th>428</th>\n",
              "      <td>0.883275</td>\n",
              "      <td>0.987246</td>\n",
              "      <td>0.814217</td>\n",
              "      <td>0.999005</td>\n",
              "      <td>0.993199</td>\n",
              "      <td>0.975462</td>\n",
              "    </tr>\n",
              "    <tr>\n",
              "      <th>429</th>\n",
              "      <td>0.890441</td>\n",
              "      <td>0.987246</td>\n",
              "      <td>0.823897</td>\n",
              "      <td>0.998757</td>\n",
              "      <td>0.993199</td>\n",
              "      <td>0.975705</td>\n",
              "    </tr>\n",
              "    <tr>\n",
              "      <th>430</th>\n",
              "      <td>0.874529</td>\n",
              "      <td>0.985667</td>\n",
              "      <td>0.801998</td>\n",
              "      <td>0.998504</td>\n",
              "      <td>0.994656</td>\n",
              "      <td>0.972789</td>\n",
              "    </tr>\n",
              "    <tr>\n",
              "      <th>431</th>\n",
              "      <td>0.894206</td>\n",
              "      <td>0.986761</td>\n",
              "      <td>0.829343</td>\n",
              "      <td>0.998755</td>\n",
              "      <td>0.992713</td>\n",
              "      <td>0.974733</td>\n",
              "    </tr>\n",
              "  </tbody>\n",
              "</table>\n",
              "<p>432 rows × 6 columns</p>\n",
              "</div>\n",
              "      <button class=\"colab-df-convert\" onclick=\"convertToInteractive('df-5fd4ba89-6ca5-44e4-8536-7f6893170ba0')\"\n",
              "              title=\"Convert this dataframe to an interactive table.\"\n",
              "              style=\"display:none;\">\n",
              "        \n",
              "  <svg xmlns=\"http://www.w3.org/2000/svg\" height=\"24px\"viewBox=\"0 0 24 24\"\n",
              "       width=\"24px\">\n",
              "    <path d=\"M0 0h24v24H0V0z\" fill=\"none\"/>\n",
              "    <path d=\"M18.56 5.44l.94 2.06.94-2.06 2.06-.94-2.06-.94-.94-2.06-.94 2.06-2.06.94zm-11 1L8.5 8.5l.94-2.06 2.06-.94-2.06-.94L8.5 2.5l-.94 2.06-2.06.94zm10 10l.94 2.06.94-2.06 2.06-.94-2.06-.94-.94-2.06-.94 2.06-2.06.94z\"/><path d=\"M17.41 7.96l-1.37-1.37c-.4-.4-.92-.59-1.43-.59-.52 0-1.04.2-1.43.59L10.3 9.45l-7.72 7.72c-.78.78-.78 2.05 0 2.83L4 21.41c.39.39.9.59 1.41.59.51 0 1.02-.2 1.41-.59l7.78-7.78 2.81-2.81c.8-.78.8-2.07 0-2.86zM5.41 20L4 18.59l7.72-7.72 1.47 1.35L5.41 20z\"/>\n",
              "  </svg>\n",
              "      </button>\n",
              "      \n",
              "  <style>\n",
              "    .colab-df-container {\n",
              "      display:flex;\n",
              "      flex-wrap:wrap;\n",
              "      gap: 12px;\n",
              "    }\n",
              "\n",
              "    .colab-df-convert {\n",
              "      background-color: #E8F0FE;\n",
              "      border: none;\n",
              "      border-radius: 50%;\n",
              "      cursor: pointer;\n",
              "      display: none;\n",
              "      fill: #1967D2;\n",
              "      height: 32px;\n",
              "      padding: 0 0 0 0;\n",
              "      width: 32px;\n",
              "    }\n",
              "\n",
              "    .colab-df-convert:hover {\n",
              "      background-color: #E2EBFA;\n",
              "      box-shadow: 0px 1px 2px rgba(60, 64, 67, 0.3), 0px 1px 3px 1px rgba(60, 64, 67, 0.15);\n",
              "      fill: #174EA6;\n",
              "    }\n",
              "\n",
              "    [theme=dark] .colab-df-convert {\n",
              "      background-color: #3B4455;\n",
              "      fill: #D2E3FC;\n",
              "    }\n",
              "\n",
              "    [theme=dark] .colab-df-convert:hover {\n",
              "      background-color: #434B5C;\n",
              "      box-shadow: 0px 1px 3px 1px rgba(0, 0, 0, 0.15);\n",
              "      filter: drop-shadow(0px 1px 2px rgba(0, 0, 0, 0.3));\n",
              "      fill: #FFFFFF;\n",
              "    }\n",
              "  </style>\n",
              "\n",
              "      <script>\n",
              "        const buttonEl =\n",
              "          document.querySelector('#df-5fd4ba89-6ca5-44e4-8536-7f6893170ba0 button.colab-df-convert');\n",
              "        buttonEl.style.display =\n",
              "          google.colab.kernel.accessAllowed ? 'block' : 'none';\n",
              "\n",
              "        async function convertToInteractive(key) {\n",
              "          const element = document.querySelector('#df-5fd4ba89-6ca5-44e4-8536-7f6893170ba0');\n",
              "          const dataTable =\n",
              "            await google.colab.kernel.invokeFunction('convertToInteractive',\n",
              "                                                     [key], {});\n",
              "          if (!dataTable) return;\n",
              "\n",
              "          const docLinkHtml = 'Like what you see? Visit the ' +\n",
              "            '<a target=\"_blank\" href=https://colab.research.google.com/notebooks/data_table.ipynb>data table notebook</a>'\n",
              "            + ' to learn more about interactive tables.';\n",
              "          element.innerHTML = '';\n",
              "          dataTable['output_type'] = 'display_data';\n",
              "          await google.colab.output.renderOutput(dataTable, element);\n",
              "          const docLink = document.createElement('div');\n",
              "          docLink.innerHTML = docLinkHtml;\n",
              "          element.appendChild(docLink);\n",
              "        }\n",
              "      </script>\n",
              "    </div>\n",
              "  </div>\n",
              "  "
            ],
            "text/plain": [
              "     split0_test_accuracy  split1_test_accuracy  split0_test_precision  \\\n",
              "0                0.862140              0.984210               0.787949   \n",
              "1                0.836390              0.961496               0.756862   \n",
              "2                0.819507              0.963926               0.743656   \n",
              "3                0.855338              0.958217               0.781563   \n",
              "4                0.819871              0.963075               0.741651   \n",
              "..                    ...                   ...                    ...   \n",
              "427              0.873679              0.986396               0.801135   \n",
              "428              0.883275              0.987246               0.814217   \n",
              "429              0.890441              0.987246               0.823897   \n",
              "430              0.874529              0.985667               0.801998   \n",
              "431              0.894206              0.986761               0.829343   \n",
              "\n",
              "     split1_test_precision  split0_test_recall  split1_test_recall  \n",
              "0                 0.995032            0.991013            0.973275  \n",
              "1                 0.987426            0.991256            0.934888  \n",
              "2                 0.993538            0.975225            0.933916  \n",
              "3                 0.978195            0.986398            0.937318  \n",
              "4                 0.987967            0.981783            0.937561  \n",
              "..                     ...                 ...                 ...  \n",
              "427               0.997762            0.994171            0.974976  \n",
              "428               0.999005            0.993199            0.975462  \n",
              "429               0.998757            0.993199            0.975705  \n",
              "430               0.998504            0.994656            0.972789  \n",
              "431               0.998755            0.992713            0.974733  \n",
              "\n",
              "[432 rows x 6 columns]"
            ]
          },
          "execution_count": null,
          "metadata": {},
          "output_type": "execute_result"
        }
      ],
      "source": [
        "#creating Scoring parameter: \n",
        "scoring = {'accuracy': make_scorer(accuracy_score),\n",
        "           'precision': make_scorer(precision_score),\n",
        "           'recall':make_scorer(recall_score)}\n",
        "\n",
        "parameters = {\n",
        "    \"loss\":[\"deviance\"],\n",
        "    \"learning_rate\": [0.01,0.03, 0.05, 0.07, 0.09, 0.1],\n",
        "    \"max_depth\":[3,5,8],\n",
        "    \"max_features\":[\"log2\",\"sqrt\"],\n",
        "    \"criterion\": [\"friedman_mse\",  \"absolute_error\"],\n",
        "    \"subsample\":[0.5, 0.6,0.7, 0.8, 0.9, 1.0],\n",
        "    }\n",
        "\n",
        "clf = GridSearchCV(GradientBoostingClassifier(), parameters,scoring=scoring,refit=False,cv=2, n_jobs=-1, verbose=2 )\n",
        "\n",
        "clf.fit(x_train_ovrs, y_train_ovrs)\n",
        "\n",
        "df=pd.DataFrame.from_dict(clf.cv_results_)\n",
        "#here Possible inputs for cross validation is cv=2, there two split split0 and split1\n",
        "df[['split0_test_accuracy','split1_test_accuracy','split0_test_precision','split1_test_precision','split0_test_recall','split1_test_recall']]"
      ]
    },
    {
      "cell_type": "code",
      "execution_count": null,
      "metadata": {
        "colab": {
          "background_save": true
        },
        "id": "4EB9VRQNmORG",
        "outputId": "1b7b9263-b89d-4402-cfb6-cda713d1fc2f"
      },
      "outputs": [
        {
          "data": {
            "text/plain": [
              "{'criterion': 'mae',\n",
              " 'learning_rate': 0.01,\n",
              " 'loss': 'deviance',\n",
              " 'max_depth': 8,\n",
              " 'max_features': 'sqrt',\n",
              " 'subsample': 0.5}"
            ]
          },
          "execution_count": null,
          "metadata": {},
          "output_type": "execute_result"
        }
      ],
      "source": [
        "#find the best parameter based on the accuracy_score\n",
        "#taking the average of the accuracy_score\n",
        "df['accuracy_score']=(df['split0_test_accuracy']+df['split1_test_accuracy'])/2\n",
        "\n",
        "df.loc[df['accuracy_score'].idxmax()]['params']"
      ]
    },
    {
      "cell_type": "code",
      "execution_count": 42,
      "metadata": {
        "id": "4YOtyPurWz0l",
        "colab": {
          "base_uri": "https://localhost:8080/"
        },
        "outputId": "b82a29ef-9a13-44eb-946a-dcc6efdc5f79"
      },
      "outputs": [
        {
          "output_type": "stream",
          "name": "stderr",
          "text": [
            "/usr/local/lib/python3.7/dist-packages/sklearn/ensemble/_gb.py:1290: FutureWarning: criterion='mae' was deprecated in version 0.24 and will be removed in version 1.1 (renaming of 0.26). Use criterion='friedman_mse' or 'squared_error' instead, as trees should use a squared error criterion in Gradient Boosting.\n",
            "  FutureWarning,\n"
          ]
        }
      ],
      "source": [
        "model_gbc = GradientBoostingClassifier(criterion='absolute_error', \n",
        "                                       learning_rate=0.01, \n",
        "                                       loss='deviance',\n",
        "                                       max_depth= 8,\n",
        "                                       max_features='sqrt',\n",
        "                                       n_estimators=10, \n",
        "                                       subsample=0.5, \n",
        "                                       random_state=0).fit(x_train_ovrs, y_train_ovrs)"
      ]
    },
    {
      "cell_type": "code",
      "execution_count": 41,
      "metadata": {
        "id": "JkGkWCx1XBhv"
      },
      "outputs": [],
      "source": [
        "gbc_pred=model_gbc.predict(x_test)"
      ]
    },
    {
      "cell_type": "code",
      "execution_count": 47,
      "metadata": {
        "colab": {
          "base_uri": "https://localhost:8080/"
        },
        "id": "UoMEHo-mXdPy",
        "outputId": "37ffc4b9-b29b-41fb-a9f5-220be51a0d64"
      },
      "outputs": [
        {
          "output_type": "stream",
          "name": "stdout",
          "text": [
            "ROC/AUC score: 0.9218\n",
            "Accuracy: 0.9468\n",
            "F1 score: 0.9646\n",
            "Recall: 0.9731\n",
            "Precision: 0.9563\n",
            "\n",
            " clasification report:\n",
            "               precision    recall  f1-score   support\n",
            "\n",
            "           0       0.92      0.87      0.89      1212\n",
            "           1       0.96      0.97      0.96      3528\n",
            "\n",
            "    accuracy                           0.95      4740\n",
            "   macro avg       0.94      0.92      0.93      4740\n",
            "weighted avg       0.95      0.95      0.95      4740\n",
            "\n",
            "\n",
            " confussion matrix:\n",
            " [[1055  157]\n",
            " [  95 3433]]\n"
          ]
        }
      ],
      "source": [
        "print('ROC/AUC score:',round(roc_auc_score(y_test, gbc_pred),4))\n",
        "print('Accuracy:', round(accuracy_score(y_test, gbc_pred),4))\n",
        "print ('F1 score:', round(f1_score(y_test, gbc_pred),4))\n",
        "print ('Recall:', round(recall_score(y_test, gbc_pred),4))\n",
        "print ('Precision:', round(precision_score(y_test, gbc_pred),4))\n",
        "print ('\\n clasification report:\\n', classification_report(y_test, gbc_pred))\n",
        "print ('\\n confussion matrix:\\n',confusion_matrix(y_test, gbc_pred))"
      ]
    }
  ],
  "metadata": {
    "colab": {
      "collapsed_sections": [],
      "machine_shape": "hm",
      "name": "Enrollment_admit_modelling_v3.0.ipynb",
      "provenance": []
    },
    "kernelspec": {
      "display_name": "Python 3",
      "name": "python3"
    },
    "language_info": {
      "name": "python"
    }
  },
  "nbformat": 4,
  "nbformat_minor": 0
}