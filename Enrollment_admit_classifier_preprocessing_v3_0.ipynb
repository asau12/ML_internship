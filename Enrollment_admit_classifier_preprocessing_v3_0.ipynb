{
  "cells": [
    {
      "cell_type": "markdown",
      "metadata": {
        "id": "COIner_BRaqE"
      },
      "source": [
        "##Loading Libraries"
      ]
    },
    {
      "cell_type": "code",
      "execution_count": 2,
      "metadata": {
        "id": "q_kjazmdUrlF"
      },
      "outputs": [],
      "source": [
        "import pandas as pd\n",
        "import time\n",
        "import numpy as np\n",
        "import sklearn as sk\n",
        "from sklearn.impute import KNNImputer\n",
        "\n",
        "import seaborn as sns\n",
        "import matplotlib.pyplot as plt\n",
        "\n",
        "import datetime\n",
        "\n",
        "import missingno as msno"
      ]
    },
    {
      "cell_type": "code",
      "execution_count": 3,
      "metadata": {
        "colab": {
          "base_uri": "https://localhost:8080/"
        },
        "id": "198UJJ85OZpw",
        "outputId": "4f1eb2f3-8122-4014-bbdb-466879d7bd81"
      },
      "outputs": [
        {
          "output_type": "stream",
          "name": "stdout",
          "text": [
            "Mounted at /content/drive\n"
          ]
        }
      ],
      "source": [
        "from google.colab import drive\n",
        "drive.mount('/content/drive')"
      ]
    },
    {
      "cell_type": "markdown",
      "metadata": {
        "id": "CvrtQeExRmAb"
      },
      "source": [
        "##Preparing and loading the data"
      ]
    },
    {
      "cell_type": "code",
      "execution_count": 4,
      "metadata": {
        "id": "ixrwGBkoU8ul"
      },
      "outputs": [],
      "source": [
        "df_adm= pd.read_excel('/content/drive/MyDrive/OneDrive_1_3-7-2022/2122 ADM 091021.xlsx')\n",
        "df_finaid =pd.read_excel(\"/content/drive/MyDrive/OneDrive_1_3-7-2022/2122 FINAID 091021.xlsx\")\n",
        "df_fund = pd.read_excel(\"/content/drive/MyDrive/OneDrive_1_3-7-2022/2122 FUND 091021.xlsx\")\n",
        "df_sf = pd.read_excel(\"/content/drive/MyDrive/OneDrive_1_3-7-2022/2122 SF.xlsx\")\n"
      ]
    },
    {
      "cell_type": "code",
      "execution_count": 5,
      "metadata": {
        "colab": {
          "base_uri": "https://localhost:8080/"
        },
        "id": "fJKcsc7hO_ZZ",
        "outputId": "e83a7de8-b339-4411-944e-fa63c38c8f68"
      },
      "outputs": [
        {
          "output_type": "stream",
          "name": "stdout",
          "text": [
            "(17361, 19)\n",
            "(17463, 12)\n",
            "(16447, 7)\n",
            "(270546, 6)\n"
          ]
        }
      ],
      "source": [
        "print(df_adm.shape)\n",
        "print(df_finaid.shape)\n",
        "print(df_fund.shape)\n",
        "print(df_sf.shape)"
      ]
    },
    {
      "cell_type": "markdown",
      "metadata": {
        "id": "BY5weZIfRIXr"
      },
      "source": [
        "###Merging all excel files"
      ]
    },
    {
      "cell_type": "code",
      "execution_count": 6,
      "metadata": {
        "colab": {
          "base_uri": "https://localhost:8080/"
        },
        "id": "SQAsmbmaRHUi",
        "outputId": "67d0dd43-ab96-4c04-f565-d891795cf55f"
      },
      "outputs": [
        {
          "output_type": "execute_result",
          "data": {
            "text/plain": [
              "(17470, 30)"
            ]
          },
          "metadata": {},
          "execution_count": 6
        }
      ],
      "source": [
        "df_combine1 = df_adm.merge(df_finaid, how=\"inner\") #combining df_adm and df_finaid\n",
        "df_combine1.shape"
      ]
    },
    {
      "cell_type": "code",
      "execution_count": 7,
      "metadata": {
        "colab": {
          "base_uri": "https://localhost:8080/"
        },
        "id": "m29SmBktSg1Z",
        "outputId": "0df36379-4b3d-459d-eeaf-0544365d4231"
      },
      "outputs": [
        {
          "output_type": "execute_result",
          "data": {
            "text/plain": [
              "(16564, 36)"
            ]
          },
          "metadata": {},
          "execution_count": 7
        }
      ],
      "source": [
        "df_combine2 = df_combine1.merge(df_fund, how=\"inner\")\n",
        "df_combine2.shape"
      ]
    },
    {
      "cell_type": "code",
      "execution_count": 8,
      "metadata": {
        "colab": {
          "base_uri": "https://localhost:8080/"
        },
        "id": "OfWH2TA0ZNPm",
        "outputId": "f398e0c9-aa7d-403f-e65b-90de7f0b29c7"
      },
      "outputs": [
        {
          "output_type": "execute_result",
          "data": {
            "text/plain": [
              "(15979, 41)"
            ]
          },
          "metadata": {},
          "execution_count": 8
        }
      ],
      "source": [
        "df_combine3 = df_combine2.merge(df_sf, how='inner')\n",
        "df_combine3.shape"
      ]
    },
    {
      "cell_type": "code",
      "execution_count": 9,
      "metadata": {
        "colab": {
          "base_uri": "https://localhost:8080/"
        },
        "id": "zcuaDp7W9mqw",
        "outputId": "fecee53f-d84e-439f-d681-c7217fcd6150"
      },
      "outputs": [
        {
          "output_type": "stream",
          "name": "stdout",
          "text": [
            "<class 'pandas.core.frame.DataFrame'>\n",
            "Int64Index: 15979 entries, 0 to 15978\n",
            "Data columns (total 41 columns):\n",
            " #   Column              Non-Null Count  Dtype         \n",
            "---  ------              --------------  -----         \n",
            " 0   ID                  15979 non-null  int64         \n",
            " 1   EntryTerm           15979 non-null  int64         \n",
            " 2   MaxEntryStatus      15979 non-null  object        \n",
            " 3   RECALCGPA           15979 non-null  float64       \n",
            " 4   AppDate             15979 non-null  datetime64[ns]\n",
            " 5   AdmitDate           15979 non-null  datetime64[ns]\n",
            " 6   MaxWithdrawalInd    15979 non-null  object        \n",
            " 7   GENDER              15979 non-null  object        \n",
            " 8   FirstGen            5218 non-null   object        \n",
            " 9   LEGACY              3103 non-null   object        \n",
            " 10  SCHOLARSHIPTEST     11588 non-null  float64       \n",
            " 11  RHOP                1204 non-null   object        \n",
            " 12  CCP                 1158 non-null   object        \n",
            " 13  MAJOR               15979 non-null  object        \n",
            " 14  MaxAdmPopulation    15931 non-null  object        \n",
            " 15  Race                15979 non-null  object        \n",
            " 16  DepositDate         4390 non-null   datetime64[ns]\n",
            " 17  COHORT_IND          3839 non-null   object        \n",
            " 18  TMST_15             4261 non-null   object        \n",
            " 19  ADMIT_TERM          15979 non-null  int64         \n",
            " 20  PELL_EFC_CENSUS     12652 non-null  float64       \n",
            " 21  DEPENDENCYCODE      12694 non-null  object        \n",
            " 22  FAFSARCVD           15979 non-null  object        \n",
            " 23  FAFSARCVDDATE       12694 non-null  datetime64[ns]\n",
            " 24  AWDPACKAGECOMPLETE  11438 non-null  object        \n",
            " 25  PARMARITALSTATUS    12495 non-null  float64       \n",
            " 26  PAR1GRLVL           12605 non-null  float64       \n",
            " 27  PAR2GRLVL           12102 non-null  float64       \n",
            " 28  HOUSINGAPPSTATUS    12693 non-null  float64       \n",
            " 29  TUITIONRESIDENCY    15954 non-null  object        \n",
            " 30  SCH_ACPT            15979 non-null  object        \n",
            " 31  SCH_DECLINE         15979 non-null  int64         \n",
            " 32  SCH_DEC_DATE        15269 non-null  datetime64[ns]\n",
            " 33  LOAN_ACPT           15979 non-null  int64         \n",
            " 34  LOAN_DECLINE        15979 non-null  int64         \n",
            " 35  LOAN_DEC_DATE       11433 non-null  datetime64[ns]\n",
            " 36  FirstInqSource      15979 non-null  object        \n",
            " 37  FirstInqDate        15979 non-null  datetime64[ns]\n",
            " 38  VisitDate           2905 non-null   datetime64[ns]\n",
            " 39  NumberOfVisits      15979 non-null  int64         \n",
            " 40  Visited             15979 non-null  object        \n",
            "dtypes: datetime64[ns](8), float64(7), int64(7), object(19)\n",
            "memory usage: 5.1+ MB\n"
          ]
        }
      ],
      "source": [
        "col_inf=pd.DataFrame(df_combine3.info())"
      ]
    },
    {
      "cell_type": "markdown",
      "metadata": {
        "id": "oAiv9FjJNGiE"
      },
      "source": [
        "##Handling Duplicates"
      ]
    },
    {
      "cell_type": "code",
      "execution_count": 10,
      "metadata": {
        "colab": {
          "base_uri": "https://localhost:8080/"
        },
        "id": "k0kqEY4g7eRF",
        "outputId": "7874775e-bd01-400b-b486-c2a155aad653"
      },
      "outputs": [
        {
          "output_type": "stream",
          "name": "stdout",
          "text": [
            "Number of duplicate student IDs: 179\n"
          ]
        }
      ],
      "source": [
        "print(\"Number of duplicate student IDs:\", df_combine3['ID'].duplicated().sum())"
      ]
    },
    {
      "cell_type": "code",
      "execution_count": 11,
      "metadata": {
        "id": "GzanbT21AHIy"
      },
      "outputs": [],
      "source": [
        "df_combine3.drop_duplicates('ID', keep= \"first\",inplace=True)"
      ]
    },
    {
      "cell_type": "code",
      "execution_count": 12,
      "metadata": {
        "colab": {
          "base_uri": "https://localhost:8080/"
        },
        "id": "JrP8bk9JAXji",
        "outputId": "16afa061-b53d-460b-ee56-9f5a6575e373"
      },
      "outputs": [
        {
          "output_type": "execute_result",
          "data": {
            "text/plain": [
              "0"
            ]
          },
          "metadata": {},
          "execution_count": 12
        }
      ],
      "source": [
        "df_combine3['ID'].duplicated().sum()"
      ]
    },
    {
      "cell_type": "markdown",
      "metadata": {
        "id": "MLk1_PiKXOBj"
      },
      "source": [
        "##Missing Values"
      ]
    },
    {
      "cell_type": "markdown",
      "metadata": {
        "id": "5zG3nBA6z5zI"
      },
      "source": [
        "###NA/Null values percentage"
      ]
    },
    {
      "cell_type": "code",
      "execution_count": 13,
      "metadata": {
        "colab": {
          "base_uri": "https://localhost:8080/",
          "height": 1000
        },
        "id": "7ZNuB3btZZCW",
        "outputId": "54f3d68a-c8c6-458d-d675-57365a8b78e6"
      },
      "outputs": [
        {
          "output_type": "stream",
          "name": "stdout",
          "text": [
            "              Variable  NA_Percent\n",
            "8             FirstGen   67.386076\n",
            "9               LEGACY   80.588608\n",
            "10     SCHOLARSHIPTEST   27.398734\n",
            "11                RHOP   92.537975\n",
            "12                 CCP   92.759494\n",
            "14    MaxAdmPopulation    0.303797\n",
            "16         DepositDate   72.594937\n",
            "17          COHORT_IND   76.031646\n",
            "18             TMST_15   73.405063\n",
            "20     PELL_EFC_CENSUS   20.962025\n",
            "21      DEPENDENCYCODE   20.708861\n",
            "23       FAFSARCVDDATE   20.708861\n",
            "24  AWDPACKAGECOMPLETE   28.455696\n",
            "25    PARMARITALSTATUS   21.955696\n",
            "26           PAR1GRLVL   21.259494\n",
            "27           PAR2GRLVL   24.398734\n",
            "28    HOUSINGAPPSTATUS   20.715190\n",
            "29    TUITIONRESIDENCY    0.158228\n",
            "32        SCH_DEC_DATE    4.443038\n",
            "35       LOAN_DEC_DATE   28.487342\n",
            "38           VisitDate   81.746835\n"
          ]
        },
        {
          "output_type": "execute_result",
          "data": {
            "text/plain": [
              "<matplotlib.axes._subplots.AxesSubplot at 0x7f30b4c0f810>"
            ]
          },
          "metadata": {},
          "execution_count": 13
        },
        {
          "output_type": "display_data",
          "data": {
            "text/plain": [
              "<Figure size 1440x864 with 2 Axes>"
            ],
            "image/png": "[encoded data removed]"
          },
          "metadata": {
            "needs_background": "light"
          }
        }
      ],
      "source": [
        "NA=df_combine3.isnull().sum()\n",
        "NA_name= list(NA.keys())\n",
        "\n",
        "NA_df= pd.DataFrame(zip(NA_name,(NA/len(df_combine3)*100)), columns= [\"Variable\", \"NA_Percent\"])\n",
        "print(NA_df[NA_df['NA_Percent']>0])\n",
        "\n",
        "msno.heatmap(df_combine3, cmap='YlGnBu')"
      ]
    },
    {
      "cell_type": "markdown",
      "metadata": {
        "id": "VHkTOPGLzpRW"
      },
      "source": [
        "###Imputing NA values"
      ]
    },
    {
      "cell_type": "code",
      "execution_count": 14,
      "metadata": {
        "id": "HYnLvWMhz9sX"
      },
      "outputs": [],
      "source": [
        "#For FirstGen(i.e If a student is first generation of the family to attend college) imputing Null values with 'N' since they are not First generation to attend college\n",
        "\n",
        "df_combine3['FirstGen'].fillna('N',inplace=True)"
      ]
    },
    {
      "cell_type": "code",
      "execution_count": 15,
      "metadata": {
        "colab": {
          "base_uri": "https://localhost:8080/"
        },
        "id": "muWSj-3tDR3p",
        "outputId": "1a95e9c3-f0bb-4df5-fd6f-cc89fc3e3187"
      },
      "outputs": [
        {
          "output_type": "execute_result",
          "data": {
            "text/plain": [
              "array(['N', 'Y'], dtype=object)"
            ]
          },
          "metadata": {},
          "execution_count": 15
        }
      ],
      "source": [
        "#For RHOP(i.e Students admitted to Honors college), imputing Null values with N and replacing \"RHOP\" value to \"Y\"\n",
        "df_combine3.RHOP.replace(\"RHOP\", \"Y\", inplace=True)\n",
        "df_combine3.RHOP.fillna(\"N\", inplace=True)\n",
        "df_combine3.RHOP.unique()"
      ]
    },
    {
      "cell_type": "code",
      "execution_count": 16,
      "metadata": {
        "colab": {
          "base_uri": "https://localhost:8080/"
        },
        "id": "JiYE8d1eF5cu",
        "outputId": "216b5744-a4d2-4fec-fe87-4eef5ecb8d97"
      },
      "outputs": [
        {
          "output_type": "execute_result",
          "data": {
            "text/plain": [
              "array(['None', 'G', 'P', 'S', 'A', 'U'], dtype=object)"
            ]
          },
          "metadata": {},
          "execution_count": 16
        }
      ],
      "source": [
        "#For Legacy\n",
        "df_combine3.LEGACY.fillna(\"None\", inplace=True)\n",
        "df_combine3.LEGACY.unique()"
      ]
    },
    {
      "cell_type": "code",
      "execution_count": 17,
      "metadata": {
        "id": "IB1YyZPhG8gf",
        "colab": {
          "base_uri": "https://localhost:8080/"
        },
        "outputId": "d67a7a2a-76d2-4e23-b4ff-ee575383c08d"
      },
      "outputs": [
        {
          "output_type": "execute_result",
          "data": {
            "text/plain": [
              "array(['Enrolled', 'Not Enrolled'], dtype=object)"
            ]
          },
          "metadata": {},
          "execution_count": 17
        }
      ],
      "source": [
        "#For TMST_15\n",
        "df_combine3.TMST_15.replace(['FT','3Q', 'HT', 'LH'], \"Enrolled\",inplace=True)\n",
        "df_combine3.TMST_15.fillna(\"00\", inplace=True)\n",
        "df_combine3.TMST_15.replace(\"00\", \"Not Enrolled\", inplace=True)\n",
        "df_combine3.TMST_15.unique()\n"
      ]
    },
    {
      "cell_type": "code",
      "execution_count": 18,
      "metadata": {
        "id": "6Z6KfUV5XCpW"
      },
      "outputs": [],
      "source": [
        "#For CCP()\n",
        "df_combine3.CCP.fillna(\"N\", inplace=True)\n",
        "#df_combine3.CCP.unique()"
      ]
    },
    {
      "cell_type": "code",
      "execution_count": 19,
      "metadata": {
        "id": "q1yw6bvZNtyW"
      },
      "outputs": [],
      "source": [
        "#used kNN imputation to impute values for SCHOLARSHIPTEST variable\n",
        "#kNN_imputer = KNNImputer()\n",
        "#df_combine3.SCHOLARSHIPTEST=kNN_imputer.fit_transform(df_combine3[[\"SCHOLARSHIPTEST\"]])\n",
        "#df_combine3.SCHOLARSHIPTEST.isna().sum()"
      ]
    },
    {
      "cell_type": "code",
      "execution_count": 20,
      "metadata": {
        "id": "uKFe9Z8Jv4_x"
      },
      "outputs": [],
      "source": [
        "#Scholarshiptest variable contains marks obtained in the scholarship test. The missing values mean that the student never took the scholarship test.\n",
        "#df_combine3.SCHOLARSHIPTEST.isna().sum()\n",
        "#df_combine3.SCHOLARSHIPTEST.min()\n",
        "df_combine3.SCHOLARSHIPTEST.fillna(0, inplace=True)\n",
        "\n",
        "df_combine3['Sch_test_taken'] = np.where(df_combine3['SCHOLARSHIPTEST']>0, 'Y', 'N')\n",
        "\n"
      ]
    },
    {
      "cell_type": "code",
      "execution_count": 21,
      "metadata": {
        "id": "TEQykCZ-5dm3"
      },
      "outputs": [],
      "source": [
        "#COHORT_IND\n",
        "#print(df_combine3.COHORT_IND.isna().sum())\n",
        "df_combine3.COHORT_IND.fillna(\"N\", inplace=True)\n",
        "#df_combine3.COHORT_IND.unique()"
      ]
    },
    {
      "cell_type": "code",
      "execution_count": 22,
      "metadata": {
        "id": "Fzje67gh8dc0"
      },
      "outputs": [],
      "source": [
        "#Visit_date - If the student has toured the university - Dropping this variable\n",
        "#print(df_combine3.VisitDate.isna().sum())\n",
        "#print(df_combine3.VisitDate.value_counts())\n",
        "df_combine3.Visited.value_counts()\n",
        "df_combine3.drop(labels=\"VisitDate\", axis=1, inplace=True)\n"
      ]
    },
    {
      "cell_type": "code",
      "execution_count": 23,
      "metadata": {
        "colab": {
          "base_uri": "https://localhost:8080/"
        },
        "id": "JhkduOprqwWk",
        "outputId": "45cd6dac-8523-4ba4-a228-d2cf506f8498"
      },
      "outputs": [
        {
          "output_type": "execute_result",
          "data": {
            "text/plain": [
              "array([' campus_housing', ' with_parents', 'notapp', 'off_campus'],\n",
              "      dtype=object)"
            ]
          },
          "metadata": {},
          "execution_count": 23
        }
      ],
      "source": [
        "#Housing Application Status\n",
        "df_combine3.HOUSINGAPPSTATUS.fillna(0, inplace=True)\n",
        "\n",
        "housingappstatus_dict = {0:'notapp', 1: ' with_parents', 2: ' campus_housing', 3:'off_campus' }\n",
        "df_combine3['HOUSINGAPPSTATUS']=df_combine3['HOUSINGAPPSTATUS'].map(housingappstatus_dict)\n",
        "df_combine3['HOUSINGAPPSTATUS'].unique()"
      ]
    },
    {
      "cell_type": "code",
      "execution_count": 24,
      "metadata": {
        "id": "Sm1evxN4Z0G4"
      },
      "outputs": [],
      "source": [
        "#Creating a new variable using deposit date with Y/N to denote if a deposit was made or not\n",
        "df_combine3.DepositDate.fillna('NA', inplace=True)\n",
        "df_combine3[\"Deposit_made\"] = np.where((df_combine3['DepositDate']!= \"NA\") , 'Y','N')\n",
        "#df_combine3.Deposit_made.unique()\n",
        "#Dropping Deposit_date\n",
        "df_combine3.drop(labels=\"DepositDate\", axis=1, inplace=True)"
      ]
    },
    {
      "cell_type": "code",
      "execution_count": 25,
      "metadata": {
        "id": "xKqk0X_AmRWQ"
      },
      "outputs": [],
      "source": [
        "df_combine3.PELL_EFC_CENSUS.isna().sum()\n",
        "df_combine3.PELL_EFC_CENSUS.fillna(0, inplace=True)"
      ]
    },
    {
      "cell_type": "code",
      "execution_count": 26,
      "metadata": {
        "colab": {
          "base_uri": "https://localhost:8080/"
        },
        "id": "1s4sX24epphe",
        "outputId": "6dbb11ed-00e7-4b53-a05f-948dce52816b"
      },
      "outputs": [
        {
          "output_type": "stream",
          "name": "stdout",
          "text": [
            "D    12318\n",
            "I      210\n",
            "Name: DEPENDENCYCODE, dtype: int64\n"
          ]
        }
      ],
      "source": [
        "#Imputed dependencycode with mode (i.e D)\n",
        "print(df_combine3.DEPENDENCYCODE.value_counts())\n",
        "df_combine3['DEPENDENCYCODE'].fillna(df_combine3['DEPENDENCYCODE'].mode()[0], inplace= True)\n"
      ]
    },
    {
      "cell_type": "code",
      "execution_count": 27,
      "metadata": {
        "id": "b9_yKJhGxUzj"
      },
      "outputs": [],
      "source": [
        "#Converting it to date format\n",
        "df_combine3.AWDPACKAGECOMPLETE = pd.to_datetime(df_combine3[\"AWDPACKAGECOMPLETE\"])\n",
        "df_combine3.drop(labels=\"AWDPACKAGECOMPLETE\", axis=1, inplace=True )"
      ]
    },
    {
      "cell_type": "code",
      "execution_count": 28,
      "metadata": {
        "id": "CmBaJsOmnyH3"
      },
      "outputs": [],
      "source": [
        "##corr = df_combine3.corr()\n",
        "#corr.style.background_gradient(cmap='BrBG_r')"
      ]
    },
    {
      "cell_type": "code",
      "execution_count": 29,
      "metadata": {
        "id": "M_gNx4D3-HEX"
      },
      "outputs": [],
      "source": [
        "#Removing timestamp from all the variables with Datetime datatype\n",
        "dt_var= pd.DataFrame(zip(df_combine3.columns, df_combine3.dtypes))\n",
        "dt_var.columns=[\"Variable\", \"DataType\"]\n",
        "dt_var_DT = dt_var[dt_var['DataType']== \"datetime64[ns]\"]\n",
        "\n",
        "for x in dt_var_DT.Variable:\n",
        "  df_combine3[x] = pd.to_datetime(df_combine3[x]).dt.date"
      ]
    },
    {
      "cell_type": "code",
      "execution_count": 30,
      "metadata": {
        "id": "J2Ohb39EjMxj"
      },
      "outputs": [],
      "source": [
        "#Removed dates since they have missing values and the high correlation with other attributes\n",
        "df_combine3.drop([\"FAFSARCVDDATE\",\"SCH_DEC_DATE\",\"LOAN_DEC_DATE\"],axis=1, inplace=True)"
      ]
    },
    {
      "cell_type": "code",
      "execution_count": 31,
      "metadata": {
        "colab": {
          "base_uri": "https://localhost:8080/"
        },
        "id": "ePzuOK5yllpT",
        "outputId": "492ae850-8414-4496-eeea-10a5c3675aad"
      },
      "outputs": [
        {
          "output_type": "stream",
          "name": "stdout",
          "text": [
            "R    11576\n",
            "O     2988\n",
            "W     1211\n",
            "Name: TUITIONRESIDENCY, dtype: int64\n"
          ]
        },
        {
          "output_type": "execute_result",
          "data": {
            "text/plain": [
              "0"
            ]
          },
          "metadata": {},
          "execution_count": 31
        }
      ],
      "source": [
        "#TuitionResidency imputed with mode\n",
        "print(df_combine3.TUITIONRESIDENCY.value_counts())\n",
        "\n",
        "df_combine3.TUITIONRESIDENCY.fillna(df_combine3.TUITIONRESIDENCY.mode()[0], inplace= True)\n",
        "df_combine3.TUITIONRESIDENCY.isna().sum()"
      ]
    },
    {
      "cell_type": "code",
      "execution_count": 32,
      "metadata": {
        "colab": {
          "base_uri": "https://localhost:8080/"
        },
        "id": "uZTACEunmhx_",
        "outputId": "c768d9d0-6787-401d-b902-1cd7144acaa3"
      },
      "outputs": [
        {
          "output_type": "stream",
          "name": "stdout",
          "text": [
            "1.0    8618\n",
            "3.0    2222\n",
            "2.0    1207\n",
            "4.0     227\n",
            "5.0      57\n",
            "Name: PARMARITALSTATUS, dtype: int64\n"
          ]
        }
      ],
      "source": [
        "#Not Applicable - 0\n",
        "#Married or remarried - 1\n",
        "#Never married - 2\n",
        "#Divorced or separated - 3\n",
        "#Widowed - 4\n",
        "#Unmarried and both legal parents living together - 5\n",
        "\n",
        "print(df_combine3.PARMARITALSTATUS.value_counts())\n",
        "df_combine3.PARMARITALSTATUS.fillna(0, inplace= True)\n",
        "# print(df_combine3.PARMARITALSTATUS.value_counts())\n",
        "\n",
        "#df_combine3['PARMARITALSTATUS'] = df_combine3['PARMARITALSTATUS'].astype(np.int64)\n",
        "\n",
        "mar_dictionary ={0 : 'Not Applicable', 1. : 'Married or remarried',\n",
        "                 2 : 'Never married', 3:'Divorced or separated', 4:'Widowed', \n",
        "                 5:'Unmarried and both legal parents living together'}\n",
        "df_combine3['PARMARITALSTATUS'] = df_combine3['PARMARITALSTATUS'].map(mar_dictionary)\n"
      ]
    },
    {
      "cell_type": "code",
      "execution_count": 33,
      "metadata": {
        "id": "45_Zv54oni9X"
      },
      "outputs": [],
      "source": [
        "#Middle school/Jr. High - 1\n",
        "#High school - 2\n",
        "#College or beyond - 3\n",
        "#Other/unknown - 4\n",
        "\n",
        "#print(df_combine3.PAR1GRLVL.value_counts())\n",
        "df_combine3.PAR1GRLVL.fillna(0, inplace= True)\n",
        "df_combine3[\"PAR1GRLVL\"] = df_combine3[\"PAR1GRLVL\"].astype(\"category\")\n",
        "\n",
        "#print(df_combine3.PAR2GRLVL.value_counts())\n",
        "df_combine3.PAR2GRLVL.fillna(0, inplace= True)\n",
        "df_combine3[\"PAR2GRLVL\"] = df_combine3[\"PAR2GRLVL\"].astype(\"category\")\n"
      ]
    },
    {
      "cell_type": "code",
      "source": [
        "pgl_dict ={0: 'NotApp', 1:'Middle_school/Jr_High', 2: 'High_school', 3: 'College_or_beyond', 4:'Other_Unknown'}\n",
        "df_combine3[\"PAR1GRLVL\"] = df_combine3[\"PAR1GRLVL\"].map(pgl_dict)\n",
        "df_combine3[\"PAR2GRLVL\"] = df_combine3[\"PAR2GRLVL\"].map(pgl_dict)"
      ],
      "metadata": {
        "id": "EsOsTmrIbvyR"
      },
      "execution_count": 34,
      "outputs": []
    },
    {
      "cell_type": "code",
      "source": [
        "df_combine3[\"PAR1GRLVL\"].value_counts()"
      ],
      "metadata": {
        "colab": {
          "base_uri": "https://localhost:8080/"
        },
        "id": "9KNh4GY3cRCg",
        "outputId": "b11c0f04-c6d4-4745-ce93-ad67f2b89d9f"
      },
      "execution_count": 35,
      "outputs": [
        {
          "output_type": "execute_result",
          "data": {
            "text/plain": [
              "College_or_beyond        8506\n",
              "High_school              3445\n",
              "NotApp                   3359\n",
              "Other_Unknown             282\n",
              "Middle_school/Jr_High     208\n",
              "Name: PAR1GRLVL, dtype: int64"
            ]
          },
          "metadata": {},
          "execution_count": 35
        }
      ]
    },
    {
      "cell_type": "code",
      "source": [
        "df_combine3[\"PAR2GRLVL\"].value_counts()"
      ],
      "metadata": {
        "colab": {
          "base_uri": "https://localhost:8080/"
        },
        "id": "EAObD86bcXOe",
        "outputId": "0fa0b08a-9f4b-48d5-a4dd-bd3aaaccd22f"
      },
      "execution_count": 36,
      "outputs": [
        {
          "output_type": "execute_result",
          "data": {
            "text/plain": [
              "College_or_beyond        6784\n",
              "High_school              4071\n",
              "NotApp                   3855\n",
              "Other_Unknown             781\n",
              "Middle_school/Jr_High     309\n",
              "Name: PAR2GRLVL, dtype: int64"
            ]
          },
          "metadata": {},
          "execution_count": 36
        }
      ]
    },
    {
      "cell_type": "code",
      "execution_count": 37,
      "metadata": {
        "id": "CvPiUR-lA6Za"
      },
      "outputs": [],
      "source": [
        "df_combine3.MaxAdmPopulation.value_counts()\n",
        "df_combine3.MaxAdmPopulation.fillna(df_combine3.MaxAdmPopulation.mode()[0], inplace=True)"
      ]
    },
    {
      "cell_type": "code",
      "source": [
        "#Converting all categorical varibles into factors\n",
        "cats= ['EntryTerm', 'MaxEntryStatus', 'RHOP', 'CCP', 'MAJOR','Race', 'COHORT_IND', 'TMST_15', 'ADMIT_TERM',\n",
        "       'DEPENDENCYCODE','PARMARITALSTATUS', 'PAR1GRLVL','PAR2GRLVL','MaxAdmPopulation', 'HOUSINGAPPSTATUS', 'TUITIONRESIDENCY',\n",
        "       'SCH_ACPT', 'SCH_DECLINE', 'LOAN_ACPT', 'LOAN_DECLINE', 'FirstInqSource', 'NumberOfVisits','FAFSARCVD', \n",
        "       'Visited', 'Sch_test_taken', 'Deposit_made', 'MaxWithdrawalInd', 'GENDER', 'FirstGen', 'LEGACY' ]\n",
        "\n",
        "for x in cats:\n",
        "  df_combine3[x] = df_combine3[x].astype(\"category\")"
      ],
      "metadata": {
        "id": "AXSEMfXIwllb"
      },
      "execution_count": 38,
      "outputs": []
    },
    {
      "cell_type": "code",
      "source": [
        "df = df_combine3"
      ],
      "metadata": {
        "id": "pRtfXPOSBDhl"
      },
      "execution_count": 39,
      "outputs": []
    },
    {
      "cell_type": "markdown",
      "source": [
        "##Encoding the categorical varibales"
      ],
      "metadata": {
        "id": "6ocX_xq9AcFl"
      }
    },
    {
      "cell_type": "code",
      "source": [
        "from sklearn.preprocessing import OneHotEncoder"
      ],
      "metadata": {
        "id": "gVOkPFE2Ak3F"
      },
      "execution_count": 40,
      "outputs": []
    },
    {
      "cell_type": "code",
      "source": [
        "#OneHot Encoding \n",
        "ohe= OneHotEncoder()\n",
        "enc_df = pd.DataFrame(ohe.fit_transform(df[cats].drop('TMST_15', axis=1)).toarray())"
      ],
      "metadata": {
        "id": "oj8ijtaKAsQz"
      },
      "execution_count": 41,
      "outputs": []
    },
    {
      "cell_type": "code",
      "source": [
        "ohe.get_feature_names_out(input_features=ohe.feature_names_in_)\n",
        "enc_df.columns = ohe.get_feature_names_out()"
      ],
      "metadata": {
        "id": "QYuw1iGTAtJh"
      },
      "execution_count": 42,
      "outputs": []
    },
    {
      "cell_type": "code",
      "source": [
        "enc_df.head()"
      ],
      "metadata": {
        "colab": {
          "base_uri": "https://localhost:8080/",
          "height": 299
        },
        "id": "MNXkw2zuAwFB",
        "outputId": "6a28c33b-831d-497e-ae60-23b16cb8c560"
      },
      "execution_count": 43,
      "outputs": [
        {
          "output_type": "execute_result",
          "data": {
            "text/plain": [
              "   EntryTerm_202160  EntryTerm_202180  MaxEntryStatus_F  RHOP_N  RHOP_Y  \\\n",
              "0               0.0               1.0               1.0     1.0     0.0   \n",
              "1               0.0               1.0               1.0     1.0     0.0   \n",
              "2               0.0               1.0               1.0     1.0     0.0   \n",
              "3               0.0               1.0               1.0     1.0     0.0   \n",
              "4               0.0               1.0               1.0     1.0     0.0   \n",
              "\n",
              "   CCP_N  CCP_Y  MAJOR_ACCT  MAJOR_ADV  MAJOR_AEDG  ...  GENDER_F  GENDER_M  \\\n",
              "0    1.0    0.0         0.0        0.0         0.0  ...       1.0       0.0   \n",
              "1    1.0    0.0         0.0        0.0         0.0  ...       1.0       0.0   \n",
              "2    1.0    0.0         0.0        0.0         0.0  ...       0.0       1.0   \n",
              "3    1.0    0.0         0.0        0.0         0.0  ...       1.0       0.0   \n",
              "4    1.0    0.0         0.0        0.0         0.0  ...       1.0       0.0   \n",
              "\n",
              "   FirstGen_N  FirstGen_Y  LEGACY_A  LEGACY_G  LEGACY_None  LEGACY_P  \\\n",
              "0         1.0         0.0       0.0       0.0          1.0       0.0   \n",
              "1         0.0         1.0       0.0       0.0          1.0       0.0   \n",
              "2         1.0         0.0       0.0       0.0          1.0       0.0   \n",
              "3         0.0         1.0       0.0       1.0          0.0       0.0   \n",
              "4         1.0         0.0       0.0       0.0          1.0       0.0   \n",
              "\n",
              "   LEGACY_S  LEGACY_U  \n",
              "0       0.0       0.0  \n",
              "1       0.0       0.0  \n",
              "2       0.0       0.0  \n",
              "3       0.0       0.0  \n",
              "4       0.0       0.0  \n",
              "\n",
              "[5 rows x 238 columns]"
            ],
            "text/html": [
              "\n",
              "  <div id=\"df-14a53d8b-b17c-4491-90a1-99b17f545877\">\n",
              "    <div class=\"colab-df-container\">\n",
              "      <div>\n",
              "<style scoped>\n",
              "    .dataframe tbody tr th:only-of-type {\n",
              "        vertical-align: middle;\n",
              "    }\n",
              "\n",
              "    .dataframe tbody tr th {\n",
              "        vertical-align: top;\n",
              "    }\n",
              "\n",
              "    .dataframe thead th {\n",
              "        text-align: right;\n",
              "    }\n",
              "</style>\n",
              "<table border=\"1\" class=\"dataframe\">\n",
              "  <thead>\n",
              "    <tr style=\"text-align: right;\">\n",
              "      <th></th>\n",
              "      <th>EntryTerm_202160</th>\n",
              "      <th>EntryTerm_202180</th>\n",
              "      <th>MaxEntryStatus_F</th>\n",
              "      <th>RHOP_N</th>\n",
              "      <th>RHOP_Y</th>\n",
              "      <th>CCP_N</th>\n",
              "      <th>CCP_Y</th>\n",
              "      <th>MAJOR_ACCT</th>\n",
              "      <th>MAJOR_ADV</th>\n",
              "      <th>MAJOR_AEDG</th>\n",
              "      <th>...</th>\n",
              "      <th>GENDER_F</th>\n",
              "      <th>GENDER_M</th>\n",
              "      <th>FirstGen_N</th>\n",
              "      <th>FirstGen_Y</th>\n",
              "      <th>LEGACY_A</th>\n",
              "      <th>LEGACY_G</th>\n",
              "      <th>LEGACY_None</th>\n",
              "      <th>LEGACY_P</th>\n",
              "      <th>LEGACY_S</th>\n",
              "      <th>LEGACY_U</th>\n",
              "    </tr>\n",
              "  </thead>\n",
              "  <tbody>\n",
              "    <tr>\n",
              "      <th>0</th>\n",
              "      <td>0.0</td>\n",
              "      <td>1.0</td>\n",
              "      <td>1.0</td>\n",
              "      <td>1.0</td>\n",
              "      <td>0.0</td>\n",
              "      <td>1.0</td>\n",
              "      <td>0.0</td>\n",
              "      <td>0.0</td>\n",
              "      <td>0.0</td>\n",
              "      <td>0.0</td>\n",
              "      <td>...</td>\n",
              "      <td>1.0</td>\n",
              "      <td>0.0</td>\n",
              "      <td>1.0</td>\n",
              "      <td>0.0</td>\n",
              "      <td>0.0</td>\n",
              "      <td>0.0</td>\n",
              "      <td>1.0</td>\n",
              "      <td>0.0</td>\n",
              "      <td>0.0</td>\n",
              "      <td>0.0</td>\n",
              "    </tr>\n",
              "    <tr>\n",
              "      <th>1</th>\n",
              "      <td>0.0</td>\n",
              "      <td>1.0</td>\n",
              "      <td>1.0</td>\n",
              "      <td>1.0</td>\n",
              "      <td>0.0</td>\n",
              "      <td>1.0</td>\n",
              "      <td>0.0</td>\n",
              "      <td>0.0</td>\n",
              "      <td>0.0</td>\n",
              "      <td>0.0</td>\n",
              "      <td>...</td>\n",
              "      <td>1.0</td>\n",
              "      <td>0.0</td>\n",
              "      <td>0.0</td>\n",
              "      <td>1.0</td>\n",
              "      <td>0.0</td>\n",
              "      <td>0.0</td>\n",
              "      <td>1.0</td>\n",
              "      <td>0.0</td>\n",
              "      <td>0.0</td>\n",
              "      <td>0.0</td>\n",
              "    </tr>\n",
              "    <tr>\n",
              "      <th>2</th>\n",
              "      <td>0.0</td>\n",
              "      <td>1.0</td>\n",
              "      <td>1.0</td>\n",
              "      <td>1.0</td>\n",
              "      <td>0.0</td>\n",
              "      <td>1.0</td>\n",
              "      <td>0.0</td>\n",
              "      <td>0.0</td>\n",
              "      <td>0.0</td>\n",
              "      <td>0.0</td>\n",
              "      <td>...</td>\n",
              "      <td>0.0</td>\n",
              "      <td>1.0</td>\n",
              "      <td>1.0</td>\n",
              "      <td>0.0</td>\n",
              "      <td>0.0</td>\n",
              "      <td>0.0</td>\n",
              "      <td>1.0</td>\n",
              "      <td>0.0</td>\n",
              "      <td>0.0</td>\n",
              "      <td>0.0</td>\n",
              "    </tr>\n",
              "    <tr>\n",
              "      <th>3</th>\n",
              "      <td>0.0</td>\n",
              "      <td>1.0</td>\n",
              "      <td>1.0</td>\n",
              "      <td>1.0</td>\n",
              "      <td>0.0</td>\n",
              "      <td>1.0</td>\n",
              "      <td>0.0</td>\n",
              "      <td>0.0</td>\n",
              "      <td>0.0</td>\n",
              "      <td>0.0</td>\n",
              "      <td>...</td>\n",
              "      <td>1.0</td>\n",
              "      <td>0.0</td>\n",
              "      <td>0.0</td>\n",
              "      <td>1.0</td>\n",
              "      <td>0.0</td>\n",
              "      <td>1.0</td>\n",
              "      <td>0.0</td>\n",
              "      <td>0.0</td>\n",
              "      <td>0.0</td>\n",
              "      <td>0.0</td>\n",
              "    </tr>\n",
              "    <tr>\n",
              "      <th>4</th>\n",
              "      <td>0.0</td>\n",
              "      <td>1.0</td>\n",
              "      <td>1.0</td>\n",
              "      <td>1.0</td>\n",
              "      <td>0.0</td>\n",
              "      <td>1.0</td>\n",
              "      <td>0.0</td>\n",
              "      <td>0.0</td>\n",
              "      <td>0.0</td>\n",
              "      <td>0.0</td>\n",
              "      <td>...</td>\n",
              "      <td>1.0</td>\n",
              "      <td>0.0</td>\n",
              "      <td>1.0</td>\n",
              "      <td>0.0</td>\n",
              "      <td>0.0</td>\n",
              "      <td>0.0</td>\n",
              "      <td>1.0</td>\n",
              "      <td>0.0</td>\n",
              "      <td>0.0</td>\n",
              "      <td>0.0</td>\n",
              "    </tr>\n",
              "  </tbody>\n",
              "</table>\n",
              "<p>5 rows × 238 columns</p>\n",
              "</div>\n",
              "      <button class=\"colab-df-convert\" onclick=\"convertToInteractive('df-14a53d8b-b17c-4491-90a1-99b17f545877')\"\n",
              "              title=\"Convert this dataframe to an interactive table.\"\n",
              "              style=\"display:none;\">\n",
              "        \n",
              "  <svg xmlns=\"http://www.w3.org/2000/svg\" height=\"24px\"viewBox=\"0 0 24 24\"\n",
              "       width=\"24px\">\n",
              "    <path d=\"M0 0h24v24H0V0z\" fill=\"none\"/>\n",
              "    <path d=\"M18.56 5.44l.94 2.06.94-2.06 2.06-.94-2.06-.94-.94-2.06-.94 2.06-2.06.94zm-11 1L8.5 8.5l.94-2.06 2.06-.94-2.06-.94L8.5 2.5l-.94 2.06-2.06.94zm10 10l.94 2.06.94-2.06 2.06-.94-2.06-.94-.94-2.06-.94 2.06-2.06.94z\"/><path d=\"M17.41 7.96l-1.37-1.37c-.4-.4-.92-.59-1.43-.59-.52 0-1.04.2-1.43.59L10.3 9.45l-7.72 7.72c-.78.78-.78 2.05 0 2.83L4 21.41c.39.39.9.59 1.41.59.51 0 1.02-.2 1.41-.59l7.78-7.78 2.81-2.81c.8-.78.8-2.07 0-2.86zM5.41 20L4 18.59l7.72-7.72 1.47 1.35L5.41 20z\"/>\n",
              "  </svg>\n",
              "      </button>\n",
              "      \n",
              "  <style>\n",
              "    .colab-df-container {\n",
              "      display:flex;\n",
              "      flex-wrap:wrap;\n",
              "      gap: 12px;\n",
              "    }\n",
              "\n",
              "    .colab-df-convert {\n",
              "      background-color: #E8F0FE;\n",
              "      border: none;\n",
              "      border-radius: 50%;\n",
              "      cursor: pointer;\n",
              "      display: none;\n",
              "      fill: #1967D2;\n",
              "      height: 32px;\n",
              "      padding: 0 0 0 0;\n",
              "      width: 32px;\n",
              "    }\n",
              "\n",
              "    .colab-df-convert:hover {\n",
              "      background-color: #E2EBFA;\n",
              "      box-shadow: 0px 1px 2px rgba(60, 64, 67, 0.3), 0px 1px 3px 1px rgba(60, 64, 67, 0.15);\n",
              "      fill: #174EA6;\n",
              "    }\n",
              "\n",
              "    [theme=dark] .colab-df-convert {\n",
              "      background-color: #3B4455;\n",
              "      fill: #D2E3FC;\n",
              "    }\n",
              "\n",
              "    [theme=dark] .colab-df-convert:hover {\n",
              "      background-color: #434B5C;\n",
              "      box-shadow: 0px 1px 3px 1px rgba(0, 0, 0, 0.15);\n",
              "      filter: drop-shadow(0px 1px 2px rgba(0, 0, 0, 0.3));\n",
              "      fill: #FFFFFF;\n",
              "    }\n",
              "  </style>\n",
              "\n",
              "      <script>\n",
              "        const buttonEl =\n",
              "          document.querySelector('#df-14a53d8b-b17c-4491-90a1-99b17f545877 button.colab-df-convert');\n",
              "        buttonEl.style.display =\n",
              "          google.colab.kernel.accessAllowed ? 'block' : 'none';\n",
              "\n",
              "        async function convertToInteractive(key) {\n",
              "          const element = document.querySelector('#df-14a53d8b-b17c-4491-90a1-99b17f545877');\n",
              "          const dataTable =\n",
              "            await google.colab.kernel.invokeFunction('convertToInteractive',\n",
              "                                                     [key], {});\n",
              "          if (!dataTable) return;\n",
              "\n",
              "          const docLinkHtml = 'Like what you see? Visit the ' +\n",
              "            '<a target=\"_blank\" href=https://colab.research.google.com/notebooks/data_table.ipynb>data table notebook</a>'\n",
              "            + ' to learn more about interactive tables.';\n",
              "          element.innerHTML = '';\n",
              "          dataTable['output_type'] = 'display_data';\n",
              "          await google.colab.output.renderOutput(dataTable, element);\n",
              "          const docLink = document.createElement('div');\n",
              "          docLink.innerHTML = docLinkHtml;\n",
              "          element.appendChild(docLink);\n",
              "        }\n",
              "      </script>\n",
              "    </div>\n",
              "  </div>\n",
              "  "
            ]
          },
          "metadata": {},
          "execution_count": 43
        }
      ]
    },
    {
      "cell_type": "code",
      "source": [
        "enc_df.reset_index(drop=True, inplace=True)"
      ],
      "metadata": {
        "id": "xx3LaoCWAwpY"
      },
      "execution_count": 44,
      "outputs": []
    },
    {
      "cell_type": "code",
      "source": [
        "#Label encoding\n",
        "from sklearn.preprocessing import LabelEncoder\n",
        "from sklearn.pipeline import Pipeline\n",
        "\n",
        "class MultiColumnLabelEncoder:\n",
        "    def __init__(self,columns = None):\n",
        "        self.columns = columns # array of column names to encode\n",
        "\n",
        "    def fit(self,X,y=None):\n",
        "        return self # not relevant here\n",
        "\n",
        "    def transform(self,X):\n",
        "        '''\n",
        "        Transforms columns of X specified in self.columns using\n",
        "        LabelEncoder(). If no columns specified, transforms all\n",
        "        columns in X.\n",
        "        '''\n",
        "        output = X.copy()\n",
        "        if self.columns is not None:\n",
        "            for col in self.columns:\n",
        "                output[col] = LabelEncoder().fit_transform(output[col])\n",
        "        else:\n",
        "            for colname,col in output.iteritems():\n",
        "                output[colname] = LabelEncoder().fit_transform(col)\n",
        "        return output\n",
        "\n",
        "    def fit_transform(self,X,y=None):\n",
        "        return self.fit(X,y).transform(X)"
      ],
      "metadata": {
        "id": "i-hBDjqhAy3W"
      },
      "execution_count": 45,
      "outputs": []
    },
    {
      "cell_type": "code",
      "source": [
        "#Label Encoding\n",
        "df1 = MultiColumnLabelEncoder(columns = [ 'TMST_15','AppDate', 'AdmitDate','FirstInqDate']).fit_transform(df)"
      ],
      "metadata": {
        "id": "aip6DOgjA1CO"
      },
      "execution_count": 46,
      "outputs": []
    },
    {
      "cell_type": "code",
      "source": [
        "no_cats_df = df1.drop(['EntryTerm', 'MaxEntryStatus', 'RHOP', 'CCP', 'MAJOR','Race', 'COHORT_IND', 'ADMIT_TERM',\n",
        "       'DEPENDENCYCODE','PARMARITALSTATUS', 'PAR1GRLVL','PAR2GRLVL','MaxAdmPopulation', 'HOUSINGAPPSTATUS', 'TUITIONRESIDENCY',\n",
        "       'SCH_ACPT', 'SCH_DECLINE', 'LOAN_ACPT', 'LOAN_DECLINE', 'FirstInqSource', 'NumberOfVisits','FAFSARCVD', \n",
        "       'Visited', 'Sch_test_taken', 'Deposit_made', 'MaxWithdrawalInd', 'GENDER', 'FirstGen', 'LEGACY' ], axis=1)\n",
        "no_cats_df.reset_index(drop=True, inplace=True)"
      ],
      "metadata": {
        "id": "ZJczSUN1A3nf"
      },
      "execution_count": 47,
      "outputs": []
    },
    {
      "cell_type": "code",
      "source": [
        "df2 = pd.concat([no_cats_df, enc_df], axis=1)\n",
        "df2"
      ],
      "metadata": {
        "colab": {
          "base_uri": "https://localhost:8080/",
          "height": 488
        },
        "id": "lPmJ1ZtxA5cU",
        "outputId": "e1a9fdaf-f108-4ba0-d533-caab8a937c0c"
      },
      "execution_count": 48,
      "outputs": [
        {
          "output_type": "execute_result",
          "data": {
            "text/plain": [
              "              ID  RECALCGPA  AppDate  AdmitDate  SCHOLARSHIPTEST  TMST_15  \\\n",
              "0      120957007       2.70       36         38             14.0        0   \n",
              "1      102554310       2.95       99         77             18.0        0   \n",
              "2      170965039       3.63      105         76             28.0        0   \n",
              "3      131260604       4.00      119         87             24.0        0   \n",
              "4      119542072       4.00       55         19             20.0        1   \n",
              "...          ...        ...      ...        ...              ...      ...   \n",
              "15795  182911666       4.00       83        131             24.0        1   \n",
              "15796  110413270       3.49      117        140              0.0        1   \n",
              "15797  103523540       2.99      160        133              0.0        0   \n",
              "15798  152180035       3.50      136        109              0.0        1   \n",
              "15799  187495488       4.00      102         82             22.0        1   \n",
              "\n",
              "       PELL_EFC_CENSUS  FirstInqDate  EntryTerm_202160  EntryTerm_202180  ...  \\\n",
              "0                  0.0            65               0.0               1.0  ...   \n",
              "1                  0.0           289               0.0               1.0  ...   \n",
              "2              10564.0           694               0.0               1.0  ...   \n",
              "3              20587.0           357               0.0               1.0  ...   \n",
              "4                  0.0           741               0.0               1.0  ...   \n",
              "...                ...           ...               ...               ...  ...   \n",
              "15795              0.0           799               0.0               1.0  ...   \n",
              "15796              0.0           841               0.0               1.0  ...   \n",
              "15797              0.0           873               0.0               1.0  ...   \n",
              "15798         256548.0           761               0.0               1.0  ...   \n",
              "15799              0.0           782               0.0               1.0  ...   \n",
              "\n",
              "       GENDER_F  GENDER_M  FirstGen_N  FirstGen_Y  LEGACY_A  LEGACY_G  \\\n",
              "0           1.0       0.0         1.0         0.0       0.0       0.0   \n",
              "1           1.0       0.0         0.0         1.0       0.0       0.0   \n",
              "2           0.0       1.0         1.0         0.0       0.0       0.0   \n",
              "3           1.0       0.0         0.0         1.0       0.0       1.0   \n",
              "4           1.0       0.0         1.0         0.0       0.0       0.0   \n",
              "...         ...       ...         ...         ...       ...       ...   \n",
              "15795       1.0       0.0         1.0         0.0       0.0       0.0   \n",
              "15796       1.0       0.0         1.0         0.0       0.0       0.0   \n",
              "15797       1.0       0.0         0.0         1.0       0.0       0.0   \n",
              "15798       0.0       1.0         1.0         0.0       0.0       0.0   \n",
              "15799       0.0       1.0         1.0         0.0       0.0       0.0   \n",
              "\n",
              "       LEGACY_None  LEGACY_P  LEGACY_S  LEGACY_U  \n",
              "0              1.0       0.0       0.0       0.0  \n",
              "1              1.0       0.0       0.0       0.0  \n",
              "2              1.0       0.0       0.0       0.0  \n",
              "3              0.0       0.0       0.0       0.0  \n",
              "4              1.0       0.0       0.0       0.0  \n",
              "...            ...       ...       ...       ...  \n",
              "15795          0.0       1.0       0.0       0.0  \n",
              "15796          1.0       0.0       0.0       0.0  \n",
              "15797          1.0       0.0       0.0       0.0  \n",
              "15798          1.0       0.0       0.0       0.0  \n",
              "15799          1.0       0.0       0.0       0.0  \n",
              "\n",
              "[15800 rows x 246 columns]"
            ],
            "text/html": [
              "\n",
              "  <div id=\"df-4ee07c3a-0a14-4f78-bf1f-5fab945f4cc9\">\n",
              "    <div class=\"colab-df-container\">\n",
              "      <div>\n",
              "<style scoped>\n",
              "    .dataframe tbody tr th:only-of-type {\n",
              "        vertical-align: middle;\n",
              "    }\n",
              "\n",
              "    .dataframe tbody tr th {\n",
              "        vertical-align: top;\n",
              "    }\n",
              "\n",
              "    .dataframe thead th {\n",
              "        text-align: right;\n",
              "    }\n",
              "</style>\n",
              "<table border=\"1\" class=\"dataframe\">\n",
              "  <thead>\n",
              "    <tr style=\"text-align: right;\">\n",
              "      <th></th>\n",
              "      <th>ID</th>\n",
              "      <th>RECALCGPA</th>\n",
              "      <th>AppDate</th>\n",
              "      <th>AdmitDate</th>\n",
              "      <th>SCHOLARSHIPTEST</th>\n",
              "      <th>TMST_15</th>\n",
              "      <th>PELL_EFC_CENSUS</th>\n",
              "      <th>FirstInqDate</th>\n",
              "      <th>EntryTerm_202160</th>\n",
              "      <th>EntryTerm_202180</th>\n",
              "      <th>...</th>\n",
              "      <th>GENDER_F</th>\n",
              "      <th>GENDER_M</th>\n",
              "      <th>FirstGen_N</th>\n",
              "      <th>FirstGen_Y</th>\n",
              "      <th>LEGACY_A</th>\n",
              "      <th>LEGACY_G</th>\n",
              "      <th>LEGACY_None</th>\n",
              "      <th>LEGACY_P</th>\n",
              "      <th>LEGACY_S</th>\n",
              "      <th>LEGACY_U</th>\n",
              "    </tr>\n",
              "  </thead>\n",
              "  <tbody>\n",
              "    <tr>\n",
              "      <th>0</th>\n",
              "      <td>120957007</td>\n",
              "      <td>2.70</td>\n",
              "      <td>36</td>\n",
              "      <td>38</td>\n",
              "      <td>14.0</td>\n",
              "      <td>0</td>\n",
              "      <td>0.0</td>\n",
              "      <td>65</td>\n",
              "      <td>0.0</td>\n",
              "      <td>1.0</td>\n",
              "      <td>...</td>\n",
              "      <td>1.0</td>\n",
              "      <td>0.0</td>\n",
              "      <td>1.0</td>\n",
              "      <td>0.0</td>\n",
              "      <td>0.0</td>\n",
              "      <td>0.0</td>\n",
              "      <td>1.0</td>\n",
              "      <td>0.0</td>\n",
              "      <td>0.0</td>\n",
              "      <td>0.0</td>\n",
              "    </tr>\n",
              "    <tr>\n",
              "      <th>1</th>\n",
              "      <td>102554310</td>\n",
              "      <td>2.95</td>\n",
              "      <td>99</td>\n",
              "      <td>77</td>\n",
              "      <td>18.0</td>\n",
              "      <td>0</td>\n",
              "      <td>0.0</td>\n",
              "      <td>289</td>\n",
              "      <td>0.0</td>\n",
              "      <td>1.0</td>\n",
              "      <td>...</td>\n",
              "      <td>1.0</td>\n",
              "      <td>0.0</td>\n",
              "      <td>0.0</td>\n",
              "      <td>1.0</td>\n",
              "      <td>0.0</td>\n",
              "      <td>0.0</td>\n",
              "      <td>1.0</td>\n",
              "      <td>0.0</td>\n",
              "      <td>0.0</td>\n",
              "      <td>0.0</td>\n",
              "    </tr>\n",
              "    <tr>\n",
              "      <th>2</th>\n",
              "      <td>170965039</td>\n",
              "      <td>3.63</td>\n",
              "      <td>105</td>\n",
              "      <td>76</td>\n",
              "      <td>28.0</td>\n",
              "      <td>0</td>\n",
              "      <td>10564.0</td>\n",
              "      <td>694</td>\n",
              "      <td>0.0</td>\n",
              "      <td>1.0</td>\n",
              "      <td>...</td>\n",
              "      <td>0.0</td>\n",
              "      <td>1.0</td>\n",
              "      <td>1.0</td>\n",
              "      <td>0.0</td>\n",
              "      <td>0.0</td>\n",
              "      <td>0.0</td>\n",
              "      <td>1.0</td>\n",
              "      <td>0.0</td>\n",
              "      <td>0.0</td>\n",
              "      <td>0.0</td>\n",
              "    </tr>\n",
              "    <tr>\n",
              "      <th>3</th>\n",
              "      <td>131260604</td>\n",
              "      <td>4.00</td>\n",
              "      <td>119</td>\n",
              "      <td>87</td>\n",
              "      <td>24.0</td>\n",
              "      <td>0</td>\n",
              "      <td>20587.0</td>\n",
              "      <td>357</td>\n",
              "      <td>0.0</td>\n",
              "      <td>1.0</td>\n",
              "      <td>...</td>\n",
              "      <td>1.0</td>\n",
              "      <td>0.0</td>\n",
              "      <td>0.0</td>\n",
              "      <td>1.0</td>\n",
              "      <td>0.0</td>\n",
              "      <td>1.0</td>\n",
              "      <td>0.0</td>\n",
              "      <td>0.0</td>\n",
              "      <td>0.0</td>\n",
              "      <td>0.0</td>\n",
              "    </tr>\n",
              "    <tr>\n",
              "      <th>4</th>\n",
              "      <td>119542072</td>\n",
              "      <td>4.00</td>\n",
              "      <td>55</td>\n",
              "      <td>19</td>\n",
              "      <td>20.0</td>\n",
              "      <td>1</td>\n",
              "      <td>0.0</td>\n",
              "      <td>741</td>\n",
              "      <td>0.0</td>\n",
              "      <td>1.0</td>\n",
              "      <td>...</td>\n",
              "      <td>1.0</td>\n",
              "      <td>0.0</td>\n",
              "      <td>1.0</td>\n",
              "      <td>0.0</td>\n",
              "      <td>0.0</td>\n",
              "      <td>0.0</td>\n",
              "      <td>1.0</td>\n",
              "      <td>0.0</td>\n",
              "      <td>0.0</td>\n",
              "      <td>0.0</td>\n",
              "    </tr>\n",
              "    <tr>\n",
              "      <th>...</th>\n",
              "      <td>...</td>\n",
              "      <td>...</td>\n",
              "      <td>...</td>\n",
              "      <td>...</td>\n",
              "      <td>...</td>\n",
              "      <td>...</td>\n",
              "      <td>...</td>\n",
              "      <td>...</td>\n",
              "      <td>...</td>\n",
              "      <td>...</td>\n",
              "      <td>...</td>\n",
              "      <td>...</td>\n",
              "      <td>...</td>\n",
              "      <td>...</td>\n",
              "      <td>...</td>\n",
              "      <td>...</td>\n",
              "      <td>...</td>\n",
              "      <td>...</td>\n",
              "      <td>...</td>\n",
              "      <td>...</td>\n",
              "      <td>...</td>\n",
              "    </tr>\n",
              "    <tr>\n",
              "      <th>15795</th>\n",
              "      <td>182911666</td>\n",
              "      <td>4.00</td>\n",
              "      <td>83</td>\n",
              "      <td>131</td>\n",
              "      <td>24.0</td>\n",
              "      <td>1</td>\n",
              "      <td>0.0</td>\n",
              "      <td>799</td>\n",
              "      <td>0.0</td>\n",
              "      <td>1.0</td>\n",
              "      <td>...</td>\n",
              "      <td>1.0</td>\n",
              "      <td>0.0</td>\n",
              "      <td>1.0</td>\n",
              "      <td>0.0</td>\n",
              "      <td>0.0</td>\n",
              "      <td>0.0</td>\n",
              "      <td>0.0</td>\n",
              "      <td>1.0</td>\n",
              "      <td>0.0</td>\n",
              "      <td>0.0</td>\n",
              "    </tr>\n",
              "    <tr>\n",
              "      <th>15796</th>\n",
              "      <td>110413270</td>\n",
              "      <td>3.49</td>\n",
              "      <td>117</td>\n",
              "      <td>140</td>\n",
              "      <td>0.0</td>\n",
              "      <td>1</td>\n",
              "      <td>0.0</td>\n",
              "      <td>841</td>\n",
              "      <td>0.0</td>\n",
              "      <td>1.0</td>\n",
              "      <td>...</td>\n",
              "      <td>1.0</td>\n",
              "      <td>0.0</td>\n",
              "      <td>1.0</td>\n",
              "      <td>0.0</td>\n",
              "      <td>0.0</td>\n",
              "      <td>0.0</td>\n",
              "      <td>1.0</td>\n",
              "      <td>0.0</td>\n",
              "      <td>0.0</td>\n",
              "      <td>0.0</td>\n",
              "    </tr>\n",
              "    <tr>\n",
              "      <th>15797</th>\n",
              "      <td>103523540</td>\n",
              "      <td>2.99</td>\n",
              "      <td>160</td>\n",
              "      <td>133</td>\n",
              "      <td>0.0</td>\n",
              "      <td>0</td>\n",
              "      <td>0.0</td>\n",
              "      <td>873</td>\n",
              "      <td>0.0</td>\n",
              "      <td>1.0</td>\n",
              "      <td>...</td>\n",
              "      <td>1.0</td>\n",
              "      <td>0.0</td>\n",
              "      <td>0.0</td>\n",
              "      <td>1.0</td>\n",
              "      <td>0.0</td>\n",
              "      <td>0.0</td>\n",
              "      <td>1.0</td>\n",
              "      <td>0.0</td>\n",
              "      <td>0.0</td>\n",
              "      <td>0.0</td>\n",
              "    </tr>\n",
              "    <tr>\n",
              "      <th>15798</th>\n",
              "      <td>152180035</td>\n",
              "      <td>3.50</td>\n",
              "      <td>136</td>\n",
              "      <td>109</td>\n",
              "      <td>0.0</td>\n",
              "      <td>1</td>\n",
              "      <td>256548.0</td>\n",
              "      <td>761</td>\n",
              "      <td>0.0</td>\n",
              "      <td>1.0</td>\n",
              "      <td>...</td>\n",
              "      <td>0.0</td>\n",
              "      <td>1.0</td>\n",
              "      <td>1.0</td>\n",
              "      <td>0.0</td>\n",
              "      <td>0.0</td>\n",
              "      <td>0.0</td>\n",
              "      <td>1.0</td>\n",
              "      <td>0.0</td>\n",
              "      <td>0.0</td>\n",
              "      <td>0.0</td>\n",
              "    </tr>\n",
              "    <tr>\n",
              "      <th>15799</th>\n",
              "      <td>187495488</td>\n",
              "      <td>4.00</td>\n",
              "      <td>102</td>\n",
              "      <td>82</td>\n",
              "      <td>22.0</td>\n",
              "      <td>1</td>\n",
              "      <td>0.0</td>\n",
              "      <td>782</td>\n",
              "      <td>0.0</td>\n",
              "      <td>1.0</td>\n",
              "      <td>...</td>\n",
              "      <td>0.0</td>\n",
              "      <td>1.0</td>\n",
              "      <td>1.0</td>\n",
              "      <td>0.0</td>\n",
              "      <td>0.0</td>\n",
              "      <td>0.0</td>\n",
              "      <td>1.0</td>\n",
              "      <td>0.0</td>\n",
              "      <td>0.0</td>\n",
              "      <td>0.0</td>\n",
              "    </tr>\n",
              "  </tbody>\n",
              "</table>\n",
              "<p>15800 rows × 246 columns</p>\n",
              "</div>\n",
              "      <button class=\"colab-df-convert\" onclick=\"convertToInteractive('df-4ee07c3a-0a14-4f78-bf1f-5fab945f4cc9')\"\n",
              "              title=\"Convert this dataframe to an interactive table.\"\n",
              "              style=\"display:none;\">\n",
              "        \n",
              "  <svg xmlns=\"http://www.w3.org/2000/svg\" height=\"24px\"viewBox=\"0 0 24 24\"\n",
              "       width=\"24px\">\n",
              "    <path d=\"M0 0h24v24H0V0z\" fill=\"none\"/>\n",
              "    <path d=\"M18.56 5.44l.94 2.06.94-2.06 2.06-.94-2.06-.94-.94-2.06-.94 2.06-2.06.94zm-11 1L8.5 8.5l.94-2.06 2.06-.94-2.06-.94L8.5 2.5l-.94 2.06-2.06.94zm10 10l.94 2.06.94-2.06 2.06-.94-2.06-.94-.94-2.06-.94 2.06-2.06.94z\"/><path d=\"M17.41 7.96l-1.37-1.37c-.4-.4-.92-.59-1.43-.59-.52 0-1.04.2-1.43.59L10.3 9.45l-7.72 7.72c-.78.78-.78 2.05 0 2.83L4 21.41c.39.39.9.59 1.41.59.51 0 1.02-.2 1.41-.59l7.78-7.78 2.81-2.81c.8-.78.8-2.07 0-2.86zM5.41 20L4 18.59l7.72-7.72 1.47 1.35L5.41 20z\"/>\n",
              "  </svg>\n",
              "      </button>\n",
              "      \n",
              "  <style>\n",
              "    .colab-df-container {\n",
              "      display:flex;\n",
              "      flex-wrap:wrap;\n",
              "      gap: 12px;\n",
              "    }\n",
              "\n",
              "    .colab-df-convert {\n",
              "      background-color: #E8F0FE;\n",
              "      border: none;\n",
              "      border-radius: 50%;\n",
              "      cursor: pointer;\n",
              "      display: none;\n",
              "      fill: #1967D2;\n",
              "      height: 32px;\n",
              "      padding: 0 0 0 0;\n",
              "      width: 32px;\n",
              "    }\n",
              "\n",
              "    .colab-df-convert:hover {\n",
              "      background-color: #E2EBFA;\n",
              "      box-shadow: 0px 1px 2px rgba(60, 64, 67, 0.3), 0px 1px 3px 1px rgba(60, 64, 67, 0.15);\n",
              "      fill: #174EA6;\n",
              "    }\n",
              "\n",
              "    [theme=dark] .colab-df-convert {\n",
              "      background-color: #3B4455;\n",
              "      fill: #D2E3FC;\n",
              "    }\n",
              "\n",
              "    [theme=dark] .colab-df-convert:hover {\n",
              "      background-color: #434B5C;\n",
              "      box-shadow: 0px 1px 3px 1px rgba(0, 0, 0, 0.15);\n",
              "      filter: drop-shadow(0px 1px 2px rgba(0, 0, 0, 0.3));\n",
              "      fill: #FFFFFF;\n",
              "    }\n",
              "  </style>\n",
              "\n",
              "      <script>\n",
              "        const buttonEl =\n",
              "          document.querySelector('#df-4ee07c3a-0a14-4f78-bf1f-5fab945f4cc9 button.colab-df-convert');\n",
              "        buttonEl.style.display =\n",
              "          google.colab.kernel.accessAllowed ? 'block' : 'none';\n",
              "\n",
              "        async function convertToInteractive(key) {\n",
              "          const element = document.querySelector('#df-4ee07c3a-0a14-4f78-bf1f-5fab945f4cc9');\n",
              "          const dataTable =\n",
              "            await google.colab.kernel.invokeFunction('convertToInteractive',\n",
              "                                                     [key], {});\n",
              "          if (!dataTable) return;\n",
              "\n",
              "          const docLinkHtml = 'Like what you see? Visit the ' +\n",
              "            '<a target=\"_blank\" href=https://colab.research.google.com/notebooks/data_table.ipynb>data table notebook</a>'\n",
              "            + ' to learn more about interactive tables.';\n",
              "          element.innerHTML = '';\n",
              "          dataTable['output_type'] = 'display_data';\n",
              "          await google.colab.output.renderOutput(dataTable, element);\n",
              "          const docLink = document.createElement('div');\n",
              "          docLink.innerHTML = docLinkHtml;\n",
              "          element.appendChild(docLink);\n",
              "        }\n",
              "      </script>\n",
              "    </div>\n",
              "  </div>\n",
              "  "
            ]
          },
          "metadata": {},
          "execution_count": 48
        }
      ]
    },
    {
      "cell_type": "markdown",
      "source": [
        "#Correlated features removal"
      ],
      "metadata": {
        "id": "V3ai2Qxp_QQ3"
      }
    },
    {
      "cell_type": "code",
      "source": [
        "corr_matrix_1 = df2.corr().abs()\n",
        "corr_matrix_1\n",
        "corr_matrix_1.style.background_gradient(cmap='coolwarm')\n",
        "upper_2 = corr_matrix_1.where(np.triu(np.ones(corr_matrix_1.shape), k=1).astype(bool))\n",
        "\n",
        "to_drop_2 = [column for column in upper_2.columns if any(upper_2[column] > 0.90)]\n",
        "(to_drop_2)\n",
        "\n"
      ],
      "metadata": {
        "id": "1g-6tgjU_Ppp",
        "colab": {
          "base_uri": "https://localhost:8080/"
        },
        "outputId": "1d40ce43-cc75-4fae-822e-7d89d6aa2cd9"
      },
      "execution_count": 49,
      "outputs": [
        {
          "output_type": "execute_result",
          "data": {
            "text/plain": [
              "['EntryTerm_202180',\n",
              " 'RHOP_Y',\n",
              " 'CCP_Y',\n",
              " 'COHORT_IND_N',\n",
              " 'COHORT_IND_Y',\n",
              " 'ADMIT_TERM_202160',\n",
              " 'ADMIT_TERM_202180',\n",
              " 'DEPENDENCYCODE_I',\n",
              " 'PAR1GRLVL_NotApp',\n",
              " 'PAR2GRLVL_NotApp',\n",
              " 'HOUSINGAPPSTATUS_notapp',\n",
              " 'SCH_DECLINE_1',\n",
              " 'LOAN_ACPT_1',\n",
              " 'LOAN_DECLINE_1',\n",
              " 'NumberOfVisits_1',\n",
              " 'FAFSARCVD_N',\n",
              " 'FAFSARCVD_Y',\n",
              " 'Visited_NO',\n",
              " 'Visited_YES',\n",
              " 'Sch_test_taken_N',\n",
              " 'Sch_test_taken_Y',\n",
              " 'Deposit_made_N',\n",
              " 'Deposit_made_Y',\n",
              " 'MaxWithdrawalInd_Y',\n",
              " 'GENDER_M',\n",
              " 'FirstGen_Y']"
            ]
          },
          "metadata": {},
          "execution_count": 49
        }
      ]
    },
    {
      "cell_type": "code",
      "source": [
        "df3=df2.drop(to_drop_2, axis=1)\n",
        "df3.drop('MaxWithdrawalInd_N', axis=1, inplace=True)"
      ],
      "metadata": {
        "id": "uEQ0uydBA1WD"
      },
      "execution_count": 50,
      "outputs": []
    },
    {
      "cell_type": "markdown",
      "source": [
        "##Saving the cleaned and processed df in google drive"
      ],
      "metadata": {
        "id": "0hFys1ELB0oR"
      }
    },
    {
      "cell_type": "code",
      "source": [
        "path = '/content/drive/MyDrive/OneDrive_1_3-7-2022/df4.csv'\n",
        "\n",
        "with open(path, 'w', encoding = 'utf-8-sig') as f: df3.to_csv(f)"
      ],
      "metadata": {
        "id": "NjJIOh6nB7QA"
      },
      "execution_count": 51,
      "outputs": []
    }
  ],
  "metadata": {
    "accelerator": "GPU",
    "colab": {
      "name": "Enrollment_admit_classifier_preprocessing_v3.0.ipynb",
      "provenance": [],
      "machine_shape": "hm"
    },
    "kernelspec": {
      "display_name": "Python 3",
      "name": "python3"
    },
    "language_info": {
      "name": "python"
    }
  },
  "nbformat": 4,
  "nbformat_minor": 0
}